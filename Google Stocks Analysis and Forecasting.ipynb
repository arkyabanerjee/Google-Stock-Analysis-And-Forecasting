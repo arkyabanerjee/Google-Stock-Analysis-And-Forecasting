{
 "cells": [
  {
   "cell_type": "markdown",
   "id": "defd5ffd-074c-4299-ae1b-19139d8e21f7",
   "metadata": {},
   "source": [
    "VECTOR AUTOREGRESSION MODEL OF GOOGLE STOCK DATA "
   ]
  },
  {
   "cell_type": "markdown",
   "id": "bcb93e37-c332-4133-a81d-2ba80e0b4a59",
   "metadata": {},
   "source": [
    "Importing All the necessary libraries"
   ]
  },
  {
   "cell_type": "code",
   "execution_count": 134,
   "id": "f2d0c120-b917-40cf-aea4-0b622634aab2",
   "metadata": {},
   "outputs": [],
   "source": [
    "import pandas as pd\n",
    "import numpy as np\n",
    "import matplotlib.pyplot as plt\n",
    "from statsmodels.tsa.api import VAR\n",
    "from statsmodels.tsa.stattools import adfuller\n",
    "from statsmodels.tools.eval_measures import rmse, aic"
   ]
  },
  {
   "cell_type": "code",
   "execution_count": 135,
   "id": "536110d8-82bd-4919-bead-1c546b7c50b7",
   "metadata": {},
   "outputs": [],
   "source": [
    "stock_data1 = pd.read_csv(\"Google Dataset 1.csv\", parse_dates=['Date'], index_col='Date')"
   ]
  },
  {
   "cell_type": "code",
   "execution_count": 136,
   "id": "28041253-c9ec-463a-8126-58da77a5137e",
   "metadata": {},
   "outputs": [
    {
     "data": {
      "text/html": [
       "<div>\n",
       "<style scoped>\n",
       "    .dataframe tbody tr th:only-of-type {\n",
       "        vertical-align: middle;\n",
       "    }\n",
       "\n",
       "    .dataframe tbody tr th {\n",
       "        vertical-align: top;\n",
       "    }\n",
       "\n",
       "    .dataframe thead th {\n",
       "        text-align: right;\n",
       "    }\n",
       "</style>\n",
       "<table border=\"1\" class=\"dataframe\">\n",
       "  <thead>\n",
       "    <tr style=\"text-align: right;\">\n",
       "      <th></th>\n",
       "      <th>Open</th>\n",
       "      <th>High</th>\n",
       "      <th>Low</th>\n",
       "      <th>Close</th>\n",
       "      <th>Change %</th>\n",
       "      <th>Avg. Volume</th>\n",
       "      <th>Unnamed: 7</th>\n",
       "    </tr>\n",
       "    <tr>\n",
       "      <th>Date</th>\n",
       "      <th></th>\n",
       "      <th></th>\n",
       "      <th></th>\n",
       "      <th></th>\n",
       "      <th></th>\n",
       "      <th></th>\n",
       "      <th></th>\n",
       "    </tr>\n",
       "  </thead>\n",
       "  <tbody>\n",
       "    <tr>\n",
       "      <th>2022-01-12</th>\n",
       "      <td>101.38</td>\n",
       "      <td>102.59</td>\n",
       "      <td>100.67</td>\n",
       "      <td>101.28</td>\n",
       "      <td>-0.17%</td>\n",
       "      <td>2,17,71,536</td>\n",
       "      <td>NaN</td>\n",
       "    </tr>\n",
       "    <tr>\n",
       "      <th>2022-01-11</th>\n",
       "      <td>95.59</td>\n",
       "      <td>101.45</td>\n",
       "      <td>83.45</td>\n",
       "      <td>101.45</td>\n",
       "      <td>7.17%</td>\n",
       "      <td>2,82,94,944</td>\n",
       "      <td>NaN</td>\n",
       "    </tr>\n",
       "    <tr>\n",
       "      <th>2022-03-10</th>\n",
       "      <td>97.22</td>\n",
       "      <td>105.10</td>\n",
       "      <td>91.90</td>\n",
       "      <td>94.66</td>\n",
       "      <td>-1.55%</td>\n",
       "      <td>2,78,43,110</td>\n",
       "      <td>NaN</td>\n",
       "    </tr>\n",
       "    <tr>\n",
       "      <th>2022-01-09</th>\n",
       "      <td>109.20</td>\n",
       "      <td>112.64</td>\n",
       "      <td>96.03</td>\n",
       "      <td>96.15</td>\n",
       "      <td>-11.91%</td>\n",
       "      <td>2,53,81,194</td>\n",
       "      <td>NaN</td>\n",
       "    </tr>\n",
       "    <tr>\n",
       "      <th>2022-01-08</th>\n",
       "      <td>115.53</td>\n",
       "      <td>123.26</td>\n",
       "      <td>108.80</td>\n",
       "      <td>109.15</td>\n",
       "      <td>-6.42%</td>\n",
       "      <td>1,87,37,451</td>\n",
       "      <td>NaN</td>\n",
       "    </tr>\n",
       "    <tr>\n",
       "      <th>2022-01-07</th>\n",
       "      <td>108.34</td>\n",
       "      <td>120.44</td>\n",
       "      <td>104.76</td>\n",
       "      <td>116.64</td>\n",
       "      <td>6.64%</td>\n",
       "      <td>3,19,45,632</td>\n",
       "      <td>NaN</td>\n",
       "    </tr>\n",
       "    <tr>\n",
       "      <th>2022-01-06</th>\n",
       "      <td>114.93</td>\n",
       "      <td>119.40</td>\n",
       "      <td>105.63</td>\n",
       "      <td>109.37</td>\n",
       "      <td>-4.09%</td>\n",
       "      <td>2,98,65,028</td>\n",
       "      <td>NaN</td>\n",
       "    </tr>\n",
       "    <tr>\n",
       "      <th>2022-01-05</th>\n",
       "      <td>113.91</td>\n",
       "      <td>123.14</td>\n",
       "      <td>102.21</td>\n",
       "      <td>114.04</td>\n",
       "      <td>-0.81%</td>\n",
       "      <td>3,41,65,949</td>\n",
       "      <td>NaN</td>\n",
       "    </tr>\n",
       "    <tr>\n",
       "      <th>2022-01-04</th>\n",
       "      <td>140.01</td>\n",
       "      <td>144.04</td>\n",
       "      <td>113.12</td>\n",
       "      <td>114.97</td>\n",
       "      <td>-17.67%</td>\n",
       "      <td>2,82,47,285</td>\n",
       "      <td>NaN</td>\n",
       "    </tr>\n",
       "    <tr>\n",
       "      <th>2022-01-03</th>\n",
       "      <td>134.48</td>\n",
       "      <td>144.16</td>\n",
       "      <td>125.86</td>\n",
       "      <td>139.65</td>\n",
       "      <td>3.53%</td>\n",
       "      <td>2,77,15,934</td>\n",
       "      <td>NaN</td>\n",
       "    </tr>\n",
       "  </tbody>\n",
       "</table>\n",
       "</div>"
      ],
      "text/plain": [
       "              Open    High     Low   Close Change %  Avg. Volume  Unnamed: 7\n",
       "Date                                                                        \n",
       "2022-01-12  101.38  102.59  100.67  101.28   -0.17%  2,17,71,536         NaN\n",
       "2022-01-11   95.59  101.45   83.45  101.45    7.17%  2,82,94,944         NaN\n",
       "2022-03-10   97.22  105.10   91.90   94.66   -1.55%  2,78,43,110         NaN\n",
       "2022-01-09  109.20  112.64   96.03   96.15  -11.91%  2,53,81,194         NaN\n",
       "2022-01-08  115.53  123.26  108.80  109.15   -6.42%  1,87,37,451         NaN\n",
       "2022-01-07  108.34  120.44  104.76  116.64    6.64%  3,19,45,632         NaN\n",
       "2022-01-06  114.93  119.40  105.63  109.37   -4.09%  2,98,65,028         NaN\n",
       "2022-01-05  113.91  123.14  102.21  114.04   -0.81%  3,41,65,949         NaN\n",
       "2022-01-04  140.01  144.04  113.12  114.97  -17.67%  2,82,47,285         NaN\n",
       "2022-01-03  134.48  144.16  125.86  139.65    3.53%  2,77,15,934         NaN"
      ]
     },
     "execution_count": 136,
     "metadata": {},
     "output_type": "execute_result"
    }
   ],
   "source": [
    "stock_data1.head(10)"
   ]
  },
  {
   "cell_type": "code",
   "execution_count": 137,
   "id": "6763634d-0791-4cb2-b210-034699797468",
   "metadata": {},
   "outputs": [
    {
     "data": {
      "text/html": [
       "<div>\n",
       "<style scoped>\n",
       "    .dataframe tbody tr th:only-of-type {\n",
       "        vertical-align: middle;\n",
       "    }\n",
       "\n",
       "    .dataframe tbody tr th {\n",
       "        vertical-align: top;\n",
       "    }\n",
       "\n",
       "    .dataframe thead th {\n",
       "        text-align: right;\n",
       "    }\n",
       "</style>\n",
       "<table border=\"1\" class=\"dataframe\">\n",
       "  <thead>\n",
       "    <tr style=\"text-align: right;\">\n",
       "      <th></th>\n",
       "      <th>Open</th>\n",
       "      <th>High</th>\n",
       "      <th>Low</th>\n",
       "      <th>Close</th>\n",
       "      <th>Change %</th>\n",
       "      <th>Avg. Volume</th>\n",
       "      <th>Unnamed: 7</th>\n",
       "    </tr>\n",
       "    <tr>\n",
       "      <th>Date</th>\n",
       "      <th></th>\n",
       "      <th></th>\n",
       "      <th></th>\n",
       "      <th></th>\n",
       "      <th></th>\n",
       "      <th></th>\n",
       "      <th></th>\n",
       "    </tr>\n",
       "  </thead>\n",
       "  <tbody>\n",
       "    <tr>\n",
       "      <th>2014-02-12</th>\n",
       "      <td>26.94</td>\n",
       "      <td>27.07</td>\n",
       "      <td>24.45</td>\n",
       "      <td>26.32</td>\n",
       "      <td>-2.85%</td>\n",
       "      <td>4,16,34,440</td>\n",
       "      <td>NaN</td>\n",
       "    </tr>\n",
       "    <tr>\n",
       "      <th>2014-01-11</th>\n",
       "      <td>27.77</td>\n",
       "      <td>27.89</td>\n",
       "      <td>26.50</td>\n",
       "      <td>27.09</td>\n",
       "      <td>-3.09%</td>\n",
       "      <td>2,99,43,707</td>\n",
       "      <td>NaN</td>\n",
       "    </tr>\n",
       "    <tr>\n",
       "      <th>2014-01-10</th>\n",
       "      <td>28.80</td>\n",
       "      <td>29.05</td>\n",
       "      <td>25.40</td>\n",
       "      <td>27.95</td>\n",
       "      <td>-3.17%</td>\n",
       "      <td>4,52,90,843</td>\n",
       "      <td>NaN</td>\n",
       "    </tr>\n",
       "    <tr>\n",
       "      <th>2014-02-09</th>\n",
       "      <td>28.59</td>\n",
       "      <td>29.82</td>\n",
       "      <td>28.41</td>\n",
       "      <td>28.87</td>\n",
       "      <td>1.01%</td>\n",
       "      <td>3,18,73,775</td>\n",
       "      <td>NaN</td>\n",
       "    </tr>\n",
       "    <tr>\n",
       "      <th>2014-01-08</th>\n",
       "      <td>28.52</td>\n",
       "      <td>29.37</td>\n",
       "      <td>28.00</td>\n",
       "      <td>28.58</td>\n",
       "      <td>0.00%</td>\n",
       "      <td>2,63,13,579</td>\n",
       "      <td>NaN</td>\n",
       "    </tr>\n",
       "    <tr>\n",
       "      <th>2014-01-07</th>\n",
       "      <td>28.92</td>\n",
       "      <td>29.98</td>\n",
       "      <td>28.25</td>\n",
       "      <td>28.58</td>\n",
       "      <td>-0.64%</td>\n",
       "      <td>3,14,11,358</td>\n",
       "      <td>NaN</td>\n",
       "    </tr>\n",
       "    <tr>\n",
       "      <th>2014-02-06</th>\n",
       "      <td>28.03</td>\n",
       "      <td>29.12</td>\n",
       "      <td>26.94</td>\n",
       "      <td>28.76</td>\n",
       "      <td>2.75%</td>\n",
       "      <td>3,61,21,936</td>\n",
       "      <td>NaN</td>\n",
       "    </tr>\n",
       "    <tr>\n",
       "      <th>2014-01-05</th>\n",
       "      <td>26.35</td>\n",
       "      <td>28.39</td>\n",
       "      <td>25.16</td>\n",
       "      <td>27.99</td>\n",
       "      <td>6.31%</td>\n",
       "      <td>3,48,08,252</td>\n",
       "      <td>NaN</td>\n",
       "    </tr>\n",
       "    <tr>\n",
       "      <th>2014-01-04</th>\n",
       "      <td>27.93</td>\n",
       "      <td>30.24</td>\n",
       "      <td>25.14</td>\n",
       "      <td>26.33</td>\n",
       "      <td>-5.44%</td>\n",
       "      <td>6,40,37,909</td>\n",
       "      <td>NaN</td>\n",
       "    </tr>\n",
       "    <tr>\n",
       "      <th>2014-02-03</th>\n",
       "      <td>28.40</td>\n",
       "      <td>28.40</td>\n",
       "      <td>27.65</td>\n",
       "      <td>27.85</td>\n",
       "      <td>0.00%</td>\n",
       "      <td>4,32,192</td>\n",
       "      <td>NaN</td>\n",
       "    </tr>\n",
       "  </tbody>\n",
       "</table>\n",
       "</div>"
      ],
      "text/plain": [
       "             Open   High    Low  Close Change %  Avg. Volume  Unnamed: 7\n",
       "Date                                                                    \n",
       "2014-02-12  26.94  27.07  24.45  26.32   -2.85%  4,16,34,440         NaN\n",
       "2014-01-11  27.77  27.89  26.50  27.09   -3.09%  2,99,43,707         NaN\n",
       "2014-01-10  28.80  29.05  25.40  27.95   -3.17%  4,52,90,843         NaN\n",
       "2014-02-09  28.59  29.82  28.41  28.87    1.01%  3,18,73,775         NaN\n",
       "2014-01-08  28.52  29.37  28.00  28.58    0.00%  2,63,13,579         NaN\n",
       "2014-01-07  28.92  29.98  28.25  28.58   -0.64%  3,14,11,358         NaN\n",
       "2014-02-06  28.03  29.12  26.94  28.76    2.75%  3,61,21,936         NaN\n",
       "2014-01-05  26.35  28.39  25.16  27.99    6.31%  3,48,08,252         NaN\n",
       "2014-01-04  27.93  30.24  25.14  26.33   -5.44%  6,40,37,909         NaN\n",
       "2014-02-03  28.40  28.40  27.65  27.85    0.00%     4,32,192         NaN"
      ]
     },
     "execution_count": 137,
     "metadata": {},
     "output_type": "execute_result"
    }
   ],
   "source": [
    "stock_data1.tail(10)"
   ]
  },
  {
   "cell_type": "markdown",
   "id": "562eafb6-066f-4d16-9ebd-cfdd1a739ce5",
   "metadata": {},
   "source": [
    "Data Cleaning of the Data - chaning the Dtypes of the COlumns from object to float so that we can do advance mathematical operations on the data"
   ]
  },
  {
   "cell_type": "code",
   "execution_count": 138,
   "id": "fe0ed13e",
   "metadata": {},
   "outputs": [],
   "source": [
    "stock_data1['Change %'] = stock_data1['Change %'].str.rstrip(\"%\").astype(float)/100\n"
   ]
  },
  {
   "cell_type": "code",
   "execution_count": 140,
   "id": "8b70588d",
   "metadata": {},
   "outputs": [],
   "source": [
    "stock_data1['Avg. Volume'] = stock_data1['Avg. Volume'].str.replace(',', '')"
   ]
  },
  {
   "cell_type": "code",
   "execution_count": 141,
   "id": "7b2e23cc",
   "metadata": {},
   "outputs": [],
   "source": [
    "stock_data1['Avg. Volume'] = stock_data1['Avg. Volume'].astype(float)\n"
   ]
  },
  {
   "cell_type": "code",
   "execution_count": 142,
   "id": "8820bda4",
   "metadata": {},
   "outputs": [
    {
     "name": "stdout",
     "output_type": "stream",
     "text": [
      "<class 'pandas.core.frame.DataFrame'>\n",
      "DatetimeIndex: 106 entries, 2022-01-12 to 2014-02-03\n",
      "Data columns (total 7 columns):\n",
      " #   Column       Non-Null Count  Dtype  \n",
      "---  ------       --------------  -----  \n",
      " 0   Open         106 non-null    float64\n",
      " 1   High         106 non-null    float64\n",
      " 2   Low          106 non-null    float64\n",
      " 3   Close        106 non-null    float64\n",
      " 4   Change %     106 non-null    float64\n",
      " 5   Avg. Volume  106 non-null    float64\n",
      " 6   Unnamed: 7   0 non-null      float64\n",
      "dtypes: float64(7)\n",
      "memory usage: 6.6 KB\n"
     ]
    }
   ],
   "source": [
    "stock_data1.info()"
   ]
  },
  {
   "cell_type": "code",
   "execution_count": 143,
   "id": "1c1487a2-9a58-4d83-a757-faf9daf48114",
   "metadata": {},
   "outputs": [
    {
     "data": {
      "text/html": [
       "<div>\n",
       "<style scoped>\n",
       "    .dataframe tbody tr th:only-of-type {\n",
       "        vertical-align: middle;\n",
       "    }\n",
       "\n",
       "    .dataframe tbody tr th {\n",
       "        vertical-align: top;\n",
       "    }\n",
       "\n",
       "    .dataframe thead th {\n",
       "        text-align: right;\n",
       "    }\n",
       "</style>\n",
       "<table border=\"1\" class=\"dataframe\">\n",
       "  <thead>\n",
       "    <tr style=\"text-align: right;\">\n",
       "      <th></th>\n",
       "      <th>Open</th>\n",
       "      <th>High</th>\n",
       "      <th>Low</th>\n",
       "      <th>Close</th>\n",
       "      <th>Change %</th>\n",
       "      <th>Avg. Volume</th>\n",
       "      <th>Unnamed: 7</th>\n",
       "    </tr>\n",
       "  </thead>\n",
       "  <tbody>\n",
       "    <tr>\n",
       "      <th>count</th>\n",
       "      <td>106.000000</td>\n",
       "      <td>106.000000</td>\n",
       "      <td>106.000000</td>\n",
       "      <td>106.000000</td>\n",
       "      <td>106.000000</td>\n",
       "      <td>1.060000e+02</td>\n",
       "      <td>0.0</td>\n",
       "    </tr>\n",
       "    <tr>\n",
       "      <th>mean</th>\n",
       "      <td>63.558019</td>\n",
       "      <td>67.674151</td>\n",
       "      <td>60.285283</td>\n",
       "      <td>64.184623</td>\n",
       "      <td>0.014329</td>\n",
       "      <td>3.299223e+07</td>\n",
       "      <td>NaN</td>\n",
       "    </tr>\n",
       "    <tr>\n",
       "      <th>std</th>\n",
       "      <td>34.705462</td>\n",
       "      <td>36.999070</td>\n",
       "      <td>32.339007</td>\n",
       "      <td>34.598918</td>\n",
       "      <td>0.065133</td>\n",
       "      <td>9.553159e+06</td>\n",
       "      <td>NaN</td>\n",
       "    </tr>\n",
       "    <tr>\n",
       "      <th>min</th>\n",
       "      <td>26.240000</td>\n",
       "      <td>27.070000</td>\n",
       "      <td>24.380000</td>\n",
       "      <td>26.030000</td>\n",
       "      <td>-0.176700</td>\n",
       "      <td>4.321920e+05</td>\n",
       "      <td>NaN</td>\n",
       "    </tr>\n",
       "    <tr>\n",
       "      <th>25%</th>\n",
       "      <td>37.202500</td>\n",
       "      <td>38.947500</td>\n",
       "      <td>34.660000</td>\n",
       "      <td>37.412500</td>\n",
       "      <td>-0.020900</td>\n",
       "      <td>2.745647e+07</td>\n",
       "      <td>NaN</td>\n",
       "    </tr>\n",
       "    <tr>\n",
       "      <th>50%</th>\n",
       "      <td>54.925000</td>\n",
       "      <td>58.025000</td>\n",
       "      <td>50.665000</td>\n",
       "      <td>54.950000</td>\n",
       "      <td>0.011500</td>\n",
       "      <td>3.088268e+07</td>\n",
       "      <td>NaN</td>\n",
       "    </tr>\n",
       "    <tr>\n",
       "      <th>75%</th>\n",
       "      <td>79.640000</td>\n",
       "      <td>86.082500</td>\n",
       "      <td>72.647500</td>\n",
       "      <td>81.545000</td>\n",
       "      <td>0.056900</td>\n",
       "      <td>3.654029e+07</td>\n",
       "      <td>NaN</td>\n",
       "    </tr>\n",
       "    <tr>\n",
       "      <th>max</th>\n",
       "      <td>148.170000</td>\n",
       "      <td>152.100000</td>\n",
       "      <td>142.070000</td>\n",
       "      <td>148.270000</td>\n",
       "      <td>0.201900</td>\n",
       "      <td>6.490765e+07</td>\n",
       "      <td>NaN</td>\n",
       "    </tr>\n",
       "  </tbody>\n",
       "</table>\n",
       "</div>"
      ],
      "text/plain": [
       "             Open        High         Low       Close    Change %  \\\n",
       "count  106.000000  106.000000  106.000000  106.000000  106.000000   \n",
       "mean    63.558019   67.674151   60.285283   64.184623    0.014329   \n",
       "std     34.705462   36.999070   32.339007   34.598918    0.065133   \n",
       "min     26.240000   27.070000   24.380000   26.030000   -0.176700   \n",
       "25%     37.202500   38.947500   34.660000   37.412500   -0.020900   \n",
       "50%     54.925000   58.025000   50.665000   54.950000    0.011500   \n",
       "75%     79.640000   86.082500   72.647500   81.545000    0.056900   \n",
       "max    148.170000  152.100000  142.070000  148.270000    0.201900   \n",
       "\n",
       "        Avg. Volume  Unnamed: 7  \n",
       "count  1.060000e+02         0.0  \n",
       "mean   3.299223e+07         NaN  \n",
       "std    9.553159e+06         NaN  \n",
       "min    4.321920e+05         NaN  \n",
       "25%    2.745647e+07         NaN  \n",
       "50%    3.088268e+07         NaN  \n",
       "75%    3.654029e+07         NaN  \n",
       "max    6.490765e+07         NaN  "
      ]
     },
     "execution_count": 143,
     "metadata": {},
     "output_type": "execute_result"
    }
   ],
   "source": [
    "stock_data1.describe()"
   ]
  },
  {
   "cell_type": "code",
   "execution_count": 144,
   "id": "0f92dab9",
   "metadata": {},
   "outputs": [],
   "source": [
    "stock_data1 = stock_data1.drop(['Unnamed: 7'], axis=1)"
   ]
  },
  {
   "cell_type": "code",
   "execution_count": 145,
   "id": "0a284ef9",
   "metadata": {},
   "outputs": [
    {
     "data": {
      "text/plain": [
       "(106, 6)"
      ]
     },
     "execution_count": 145,
     "metadata": {},
     "output_type": "execute_result"
    }
   ],
   "source": [
    "stock_data1.shape"
   ]
  },
  {
   "cell_type": "code",
   "execution_count": 164,
   "id": "3c1dd33b-f1df-4083-987b-7685e29a7df2",
   "metadata": {},
   "outputs": [
    {
     "data": {
      "application/vnd.plotly.v1+json": {
       "config": {
        "plotlyServerURL": "https://plot.ly"
       },
       "data": [
        {
         "hovertemplate": "Close=%{x}<br>Avg. Volume=%{y}<extra></extra>",
         "legendgroup": "",
         "marker": {
          "color": "#636efa",
          "symbol": "circle"
         },
         "mode": "markers",
         "name": "",
         "orientation": "v",
         "showlegend": false,
         "type": "scatter",
         "x": [
          101.28,
          101.45,
          94.66,
          96.15,
          109.15,
          116.64,
          109.37,
          114.04,
          114.97,
          139.65,
          134.89,
          135.7,
          144.68,
          142.45,
          148.27,
          133.27,
          145.46,
          135.22,
          125.32,
          120.58,
          120.51,
          103.43,
          101.84,
          91.79,
          87.59,
          88.04,
          81.05,
          73.48,
          81.71,
          74.15,
          70.68,
          71.45,
          67.43,
          58.14,
          66.97,
          71.71,
          66.85,
          65.25,
          63.01,
          60.95,
          59.41,
          60.83,
          54.05,
          55.18,
          59.42,
          58.67,
          56,
          55.82,
          51.78,
          54.72,
          53.84,
          59.67,
          60.91,
          60.86,
          55.78,
          54.25,
          50.87,
          51.59,
          55.24,
          58.5,
          52.32,
          51.07,
          50.83,
          47.96,
          46.97,
          46.53,
          45.44,
          48.24,
          45.3,
          41.48,
          41.16,
          39.84,
          38.59,
          37.9,
          39.23,
          38.86,
          38.35,
          38.44,
          34.61,
          36.79,
          34.65,
          37.25,
          34.89,
          37.15,
          37.94,
          37.13,
          35.54,
          30.42,
          30.91,
          31.28,
          26.03,
          26.61,
          26.87,
          27.4,
          27.92,
          26.73,
          26.32,
          27.09,
          27.95,
          28.87,
          28.58,
          28.58,
          28.76,
          27.99,
          26.33,
          27.85
         ],
         "xaxis": "x",
         "y": [
          21771536,
          28294944,
          27843110,
          25381194,
          18737451,
          31945632,
          29865028,
          34165949,
          28247285,
          27715934,
          38560483,
          30785863,
          21789104,
          21106812,
          23648102,
          24062501,
          16925900,
          21752819,
          24940043,
          25456404,
          29263879,
          30257891,
          30979492,
          34825286,
          28609209,
          35040251,
          35691221,
          38638687,
          35531347,
          32036381,
          35303022,
          31890974,
          44130213,
          64907654,
          39055937,
          32104818,
          26312102,
          24956906,
          25521760,
          27186490,
          26320663,
          29956750,
          34098832,
          30294330,
          26533938,
          30153097,
          30457507,
          29252050,
          42376866,
          34986263,
          42170580,
          30382315,
          25061346,
          30435529,
          30574898,
          28953815,
          39784072,
          43266714,
          44614848,
          27369986,
          28164680,
          23111180,
          28891514,
          28053910,
          24311397,
          36679738,
          39625573,
          29263894,
          26546096,
          29426385,
          27041603,
          33332821,
          30569505,
          40655463,
          32339235,
          26286471,
          22943775,
          29914808,
          35796285,
          33333728,
          40147370,
          37950334,
          64367114,
          49011826,
          39191553,
          33939108,
          45012046,
          45672595,
          51163283,
          57563143,
          31220476,
          31866779,
          40270850,
          35039855,
          34220020,
          50099790,
          41634440,
          29943707,
          45290843,
          31873775,
          26313579,
          31411358,
          36121936,
          34808252,
          64037909,
          432192
         ],
         "yaxis": "y"
        }
       ],
       "layout": {
        "autosize": true,
        "legend": {
         "tracegroupgap": 0
        },
        "margin": {
         "t": 60
        },
        "template": {
         "data": {
          "bar": [
           {
            "error_x": {
             "color": "#2a3f5f"
            },
            "error_y": {
             "color": "#2a3f5f"
            },
            "marker": {
             "line": {
              "color": "#E5ECF6",
              "width": 0.5
             },
             "pattern": {
              "fillmode": "overlay",
              "size": 10,
              "solidity": 0.2
             }
            },
            "type": "bar"
           }
          ],
          "barpolar": [
           {
            "marker": {
             "line": {
              "color": "#E5ECF6",
              "width": 0.5
             },
             "pattern": {
              "fillmode": "overlay",
              "size": 10,
              "solidity": 0.2
             }
            },
            "type": "barpolar"
           }
          ],
          "carpet": [
           {
            "aaxis": {
             "endlinecolor": "#2a3f5f",
             "gridcolor": "white",
             "linecolor": "white",
             "minorgridcolor": "white",
             "startlinecolor": "#2a3f5f"
            },
            "baxis": {
             "endlinecolor": "#2a3f5f",
             "gridcolor": "white",
             "linecolor": "white",
             "minorgridcolor": "white",
             "startlinecolor": "#2a3f5f"
            },
            "type": "carpet"
           }
          ],
          "choropleth": [
           {
            "colorbar": {
             "outlinewidth": 0,
             "ticks": ""
            },
            "type": "choropleth"
           }
          ],
          "contour": [
           {
            "colorbar": {
             "outlinewidth": 0,
             "ticks": ""
            },
            "colorscale": [
             [
              0,
              "#0d0887"
             ],
             [
              0.1111111111111111,
              "#46039f"
             ],
             [
              0.2222222222222222,
              "#7201a8"
             ],
             [
              0.3333333333333333,
              "#9c179e"
             ],
             [
              0.4444444444444444,
              "#bd3786"
             ],
             [
              0.5555555555555556,
              "#d8576b"
             ],
             [
              0.6666666666666666,
              "#ed7953"
             ],
             [
              0.7777777777777778,
              "#fb9f3a"
             ],
             [
              0.8888888888888888,
              "#fdca26"
             ],
             [
              1,
              "#f0f921"
             ]
            ],
            "type": "contour"
           }
          ],
          "contourcarpet": [
           {
            "colorbar": {
             "outlinewidth": 0,
             "ticks": ""
            },
            "type": "contourcarpet"
           }
          ],
          "heatmap": [
           {
            "colorbar": {
             "outlinewidth": 0,
             "ticks": ""
            },
            "colorscale": [
             [
              0,
              "#0d0887"
             ],
             [
              0.1111111111111111,
              "#46039f"
             ],
             [
              0.2222222222222222,
              "#7201a8"
             ],
             [
              0.3333333333333333,
              "#9c179e"
             ],
             [
              0.4444444444444444,
              "#bd3786"
             ],
             [
              0.5555555555555556,
              "#d8576b"
             ],
             [
              0.6666666666666666,
              "#ed7953"
             ],
             [
              0.7777777777777778,
              "#fb9f3a"
             ],
             [
              0.8888888888888888,
              "#fdca26"
             ],
             [
              1,
              "#f0f921"
             ]
            ],
            "type": "heatmap"
           }
          ],
          "heatmapgl": [
           {
            "colorbar": {
             "outlinewidth": 0,
             "ticks": ""
            },
            "colorscale": [
             [
              0,
              "#0d0887"
             ],
             [
              0.1111111111111111,
              "#46039f"
             ],
             [
              0.2222222222222222,
              "#7201a8"
             ],
             [
              0.3333333333333333,
              "#9c179e"
             ],
             [
              0.4444444444444444,
              "#bd3786"
             ],
             [
              0.5555555555555556,
              "#d8576b"
             ],
             [
              0.6666666666666666,
              "#ed7953"
             ],
             [
              0.7777777777777778,
              "#fb9f3a"
             ],
             [
              0.8888888888888888,
              "#fdca26"
             ],
             [
              1,
              "#f0f921"
             ]
            ],
            "type": "heatmapgl"
           }
          ],
          "histogram": [
           {
            "marker": {
             "pattern": {
              "fillmode": "overlay",
              "size": 10,
              "solidity": 0.2
             }
            },
            "type": "histogram"
           }
          ],
          "histogram2d": [
           {
            "colorbar": {
             "outlinewidth": 0,
             "ticks": ""
            },
            "colorscale": [
             [
              0,
              "#0d0887"
             ],
             [
              0.1111111111111111,
              "#46039f"
             ],
             [
              0.2222222222222222,
              "#7201a8"
             ],
             [
              0.3333333333333333,
              "#9c179e"
             ],
             [
              0.4444444444444444,
              "#bd3786"
             ],
             [
              0.5555555555555556,
              "#d8576b"
             ],
             [
              0.6666666666666666,
              "#ed7953"
             ],
             [
              0.7777777777777778,
              "#fb9f3a"
             ],
             [
              0.8888888888888888,
              "#fdca26"
             ],
             [
              1,
              "#f0f921"
             ]
            ],
            "type": "histogram2d"
           }
          ],
          "histogram2dcontour": [
           {
            "colorbar": {
             "outlinewidth": 0,
             "ticks": ""
            },
            "colorscale": [
             [
              0,
              "#0d0887"
             ],
             [
              0.1111111111111111,
              "#46039f"
             ],
             [
              0.2222222222222222,
              "#7201a8"
             ],
             [
              0.3333333333333333,
              "#9c179e"
             ],
             [
              0.4444444444444444,
              "#bd3786"
             ],
             [
              0.5555555555555556,
              "#d8576b"
             ],
             [
              0.6666666666666666,
              "#ed7953"
             ],
             [
              0.7777777777777778,
              "#fb9f3a"
             ],
             [
              0.8888888888888888,
              "#fdca26"
             ],
             [
              1,
              "#f0f921"
             ]
            ],
            "type": "histogram2dcontour"
           }
          ],
          "mesh3d": [
           {
            "colorbar": {
             "outlinewidth": 0,
             "ticks": ""
            },
            "type": "mesh3d"
           }
          ],
          "parcoords": [
           {
            "line": {
             "colorbar": {
              "outlinewidth": 0,
              "ticks": ""
             }
            },
            "type": "parcoords"
           }
          ],
          "pie": [
           {
            "automargin": true,
            "type": "pie"
           }
          ],
          "scatter": [
           {
            "fillpattern": {
             "fillmode": "overlay",
             "size": 10,
             "solidity": 0.2
            },
            "type": "scatter"
           }
          ],
          "scatter3d": [
           {
            "line": {
             "colorbar": {
              "outlinewidth": 0,
              "ticks": ""
             }
            },
            "marker": {
             "colorbar": {
              "outlinewidth": 0,
              "ticks": ""
             }
            },
            "type": "scatter3d"
           }
          ],
          "scattercarpet": [
           {
            "marker": {
             "colorbar": {
              "outlinewidth": 0,
              "ticks": ""
             }
            },
            "type": "scattercarpet"
           }
          ],
          "scattergeo": [
           {
            "marker": {
             "colorbar": {
              "outlinewidth": 0,
              "ticks": ""
             }
            },
            "type": "scattergeo"
           }
          ],
          "scattergl": [
           {
            "marker": {
             "colorbar": {
              "outlinewidth": 0,
              "ticks": ""
             }
            },
            "type": "scattergl"
           }
          ],
          "scattermapbox": [
           {
            "marker": {
             "colorbar": {
              "outlinewidth": 0,
              "ticks": ""
             }
            },
            "type": "scattermapbox"
           }
          ],
          "scatterpolar": [
           {
            "marker": {
             "colorbar": {
              "outlinewidth": 0,
              "ticks": ""
             }
            },
            "type": "scatterpolar"
           }
          ],
          "scatterpolargl": [
           {
            "marker": {
             "colorbar": {
              "outlinewidth": 0,
              "ticks": ""
             }
            },
            "type": "scatterpolargl"
           }
          ],
          "scatterternary": [
           {
            "marker": {
             "colorbar": {
              "outlinewidth": 0,
              "ticks": ""
             }
            },
            "type": "scatterternary"
           }
          ],
          "surface": [
           {
            "colorbar": {
             "outlinewidth": 0,
             "ticks": ""
            },
            "colorscale": [
             [
              0,
              "#0d0887"
             ],
             [
              0.1111111111111111,
              "#46039f"
             ],
             [
              0.2222222222222222,
              "#7201a8"
             ],
             [
              0.3333333333333333,
              "#9c179e"
             ],
             [
              0.4444444444444444,
              "#bd3786"
             ],
             [
              0.5555555555555556,
              "#d8576b"
             ],
             [
              0.6666666666666666,
              "#ed7953"
             ],
             [
              0.7777777777777778,
              "#fb9f3a"
             ],
             [
              0.8888888888888888,
              "#fdca26"
             ],
             [
              1,
              "#f0f921"
             ]
            ],
            "type": "surface"
           }
          ],
          "table": [
           {
            "cells": {
             "fill": {
              "color": "#EBF0F8"
             },
             "line": {
              "color": "white"
             }
            },
            "header": {
             "fill": {
              "color": "#C8D4E3"
             },
             "line": {
              "color": "white"
             }
            },
            "type": "table"
           }
          ]
         },
         "layout": {
          "annotationdefaults": {
           "arrowcolor": "#2a3f5f",
           "arrowhead": 0,
           "arrowwidth": 1
          },
          "autotypenumbers": "strict",
          "coloraxis": {
           "colorbar": {
            "outlinewidth": 0,
            "ticks": ""
           }
          },
          "colorscale": {
           "diverging": [
            [
             0,
             "#8e0152"
            ],
            [
             0.1,
             "#c51b7d"
            ],
            [
             0.2,
             "#de77ae"
            ],
            [
             0.3,
             "#f1b6da"
            ],
            [
             0.4,
             "#fde0ef"
            ],
            [
             0.5,
             "#f7f7f7"
            ],
            [
             0.6,
             "#e6f5d0"
            ],
            [
             0.7,
             "#b8e186"
            ],
            [
             0.8,
             "#7fbc41"
            ],
            [
             0.9,
             "#4d9221"
            ],
            [
             1,
             "#276419"
            ]
           ],
           "sequential": [
            [
             0,
             "#0d0887"
            ],
            [
             0.1111111111111111,
             "#46039f"
            ],
            [
             0.2222222222222222,
             "#7201a8"
            ],
            [
             0.3333333333333333,
             "#9c179e"
            ],
            [
             0.4444444444444444,
             "#bd3786"
            ],
            [
             0.5555555555555556,
             "#d8576b"
            ],
            [
             0.6666666666666666,
             "#ed7953"
            ],
            [
             0.7777777777777778,
             "#fb9f3a"
            ],
            [
             0.8888888888888888,
             "#fdca26"
            ],
            [
             1,
             "#f0f921"
            ]
           ],
           "sequentialminus": [
            [
             0,
             "#0d0887"
            ],
            [
             0.1111111111111111,
             "#46039f"
            ],
            [
             0.2222222222222222,
             "#7201a8"
            ],
            [
             0.3333333333333333,
             "#9c179e"
            ],
            [
             0.4444444444444444,
             "#bd3786"
            ],
            [
             0.5555555555555556,
             "#d8576b"
            ],
            [
             0.6666666666666666,
             "#ed7953"
            ],
            [
             0.7777777777777778,
             "#fb9f3a"
            ],
            [
             0.8888888888888888,
             "#fdca26"
            ],
            [
             1,
             "#f0f921"
            ]
           ]
          },
          "colorway": [
           "#636efa",
           "#EF553B",
           "#00cc96",
           "#ab63fa",
           "#FFA15A",
           "#19d3f3",
           "#FF6692",
           "#B6E880",
           "#FF97FF",
           "#FECB52"
          ],
          "font": {
           "color": "#2a3f5f"
          },
          "geo": {
           "bgcolor": "white",
           "lakecolor": "white",
           "landcolor": "#E5ECF6",
           "showlakes": true,
           "showland": true,
           "subunitcolor": "white"
          },
          "hoverlabel": {
           "align": "left"
          },
          "hovermode": "closest",
          "mapbox": {
           "style": "light"
          },
          "paper_bgcolor": "white",
          "plot_bgcolor": "#E5ECF6",
          "polar": {
           "angularaxis": {
            "gridcolor": "white",
            "linecolor": "white",
            "ticks": ""
           },
           "bgcolor": "#E5ECF6",
           "radialaxis": {
            "gridcolor": "white",
            "linecolor": "white",
            "ticks": ""
           }
          },
          "scene": {
           "xaxis": {
            "backgroundcolor": "#E5ECF6",
            "gridcolor": "white",
            "gridwidth": 2,
            "linecolor": "white",
            "showbackground": true,
            "ticks": "",
            "zerolinecolor": "white"
           },
           "yaxis": {
            "backgroundcolor": "#E5ECF6",
            "gridcolor": "white",
            "gridwidth": 2,
            "linecolor": "white",
            "showbackground": true,
            "ticks": "",
            "zerolinecolor": "white"
           },
           "zaxis": {
            "backgroundcolor": "#E5ECF6",
            "gridcolor": "white",
            "gridwidth": 2,
            "linecolor": "white",
            "showbackground": true,
            "ticks": "",
            "zerolinecolor": "white"
           }
          },
          "shapedefaults": {
           "line": {
            "color": "#2a3f5f"
           }
          },
          "ternary": {
           "aaxis": {
            "gridcolor": "white",
            "linecolor": "white",
            "ticks": ""
           },
           "baxis": {
            "gridcolor": "white",
            "linecolor": "white",
            "ticks": ""
           },
           "bgcolor": "#E5ECF6",
           "caxis": {
            "gridcolor": "white",
            "linecolor": "white",
            "ticks": ""
           }
          },
          "title": {
           "x": 0.05
          },
          "xaxis": {
           "automargin": true,
           "gridcolor": "white",
           "linecolor": "white",
           "ticks": "",
           "title": {
            "standoff": 15
           },
           "zerolinecolor": "white",
           "zerolinewidth": 2
          },
          "yaxis": {
           "automargin": true,
           "gridcolor": "white",
           "linecolor": "white",
           "ticks": "",
           "title": {
            "standoff": 15
           },
           "zerolinecolor": "white",
           "zerolinewidth": 2
          }
         }
        },
        "xaxis": {
         "anchor": "y",
         "autorange": true,
         "domain": [
          0,
          1
         ],
         "range": [
          18.779035752979414,
          155.5209642470206
         ],
         "title": {
          "text": "Close"
         },
         "type": "linear"
        },
        "yaxis": {
         "anchor": "x",
         "autorange": true,
         "domain": [
          0,
          1
         ],
         "range": [
          -4560002.564304463,
          69899848.56430446
         ],
         "title": {
          "text": "Avg. Volume"
         },
         "type": "linear"
        }
       }
      },
      "image/png": "[encoded data removed]",
      "text/html": [
       "<div>                            <div id=\"1b7b43d9-27fd-479d-821c-f96a31062826\" class=\"plotly-graph-div\" style=\"height:525px; width:100%;\"></div>            <script type=\"text/javascript\">                require([\"plotly\"], function(Plotly) {                    window.PLOTLYENV=window.PLOTLYENV || {};                                    if (document.getElementById(\"1b7b43d9-27fd-479d-821c-f96a31062826\")) {                    Plotly.newPlot(                        \"1b7b43d9-27fd-479d-821c-f96a31062826\",                        [{\"hovertemplate\":\"Close=%{x}<br>Avg. Volume=%{y}<extra></extra>\",\"legendgroup\":\"\",\"marker\":{\"color\":\"#636efa\",\"symbol\":\"circle\"},\"mode\":\"markers\",\"name\":\"\",\"orientation\":\"v\",\"showlegend\":false,\"x\":[101.28,101.45,94.66,96.15,109.15,116.64,109.37,114.04,114.97,139.65,134.89,135.7,144.68,142.45,148.27,133.27,145.46,135.22,125.32,120.58,120.51,103.43,101.84,91.79,87.59,88.04,81.05,73.48,81.71,74.15,70.68,71.45,67.43,58.14,66.97,71.71,66.85,65.25,63.01,60.95,59.41,60.83,54.05,55.18,59.42,58.67,56.0,55.82,51.78,54.72,53.84,59.67,60.91,60.86,55.78,54.25,50.87,51.59,55.24,58.5,52.32,51.07,50.83,47.96,46.97,46.53,45.44,48.24,45.3,41.48,41.16,39.84,38.59,37.9,39.23,38.86,38.35,38.44,34.61,36.79,34.65,37.25,34.89,37.15,37.94,37.13,35.54,30.42,30.91,31.28,26.03,26.61,26.87,27.4,27.92,26.73,26.32,27.09,27.95,28.87,28.58,28.58,28.76,27.99,26.33,27.85],\"xaxis\":\"x\",\"y\":[21771536.0,28294944.0,27843110.0,25381194.0,18737451.0,31945632.0,29865028.0,34165949.0,28247285.0,27715934.0,38560483.0,30785863.0,21789104.0,21106812.0,23648102.0,24062501.0,16925900.0,21752819.0,24940043.0,25456404.0,29263879.0,30257891.0,30979492.0,34825286.0,28609209.0,35040251.0,35691221.0,38638687.0,35531347.0,32036381.0,35303022.0,31890974.0,44130213.0,64907654.0,39055937.0,32104818.0,26312102.0,24956906.0,25521760.0,27186490.0,26320663.0,29956750.0,34098832.0,30294330.0,26533938.0,30153097.0,30457507.0,29252050.0,42376866.0,34986263.0,42170580.0,30382315.0,25061346.0,30435529.0,30574898.0,28953815.0,39784072.0,43266714.0,44614848.0,27369986.0,28164680.0,23111180.0,28891514.0,28053910.0,24311397.0,36679738.0,39625573.0,29263894.0,26546096.0,29426385.0,27041603.0,33332821.0,30569505.0,40655463.0,32339235.0,26286471.0,22943775.0,29914808.0,35796285.0,33333728.0,40147370.0,37950334.0,64367114.0,49011826.0,39191553.0,33939108.0,45012046.0,45672595.0,51163283.0,57563143.0,31220476.0,31866779.0,40270850.0,35039855.0,34220020.0,50099790.0,41634440.0,29943707.0,45290843.0,31873775.0,26313579.0,31411358.0,36121936.0,34808252.0,64037909.0,432192.0],\"yaxis\":\"y\",\"type\":\"scatter\"}],                        {\"template\":{\"data\":{\"histogram2dcontour\":[{\"type\":\"histogram2dcontour\",\"colorbar\":{\"outlinewidth\":0,\"ticks\":\"\"},\"colorscale\":[[0.0,\"#0d0887\"],[0.1111111111111111,\"#46039f\"],[0.2222222222222222,\"#7201a8\"],[0.3333333333333333,\"#9c179e\"],[0.4444444444444444,\"#bd3786\"],[0.5555555555555556,\"#d8576b\"],[0.6666666666666666,\"#ed7953\"],[0.7777777777777778,\"#fb9f3a\"],[0.8888888888888888,\"#fdca26\"],[1.0,\"#f0f921\"]]}],\"choropleth\":[{\"type\":\"choropleth\",\"colorbar\":{\"outlinewidth\":0,\"ticks\":\"\"}}],\"histogram2d\":[{\"type\":\"histogram2d\",\"colorbar\":{\"outlinewidth\":0,\"ticks\":\"\"},\"colorscale\":[[0.0,\"#0d0887\"],[0.1111111111111111,\"#46039f\"],[0.2222222222222222,\"#7201a8\"],[0.3333333333333333,\"#9c179e\"],[0.4444444444444444,\"#bd3786\"],[0.5555555555555556,\"#d8576b\"],[0.6666666666666666,\"#ed7953\"],[0.7777777777777778,\"#fb9f3a\"],[0.8888888888888888,\"#fdca26\"],[1.0,\"#f0f921\"]]}],\"heatmap\":[{\"type\":\"heatmap\",\"colorbar\":{\"outlinewidth\":0,\"ticks\":\"\"},\"colorscale\":[[0.0,\"#0d0887\"],[0.1111111111111111,\"#46039f\"],[0.2222222222222222,\"#7201a8\"],[0.3333333333333333,\"#9c179e\"],[0.4444444444444444,\"#bd3786\"],[0.5555555555555556,\"#d8576b\"],[0.6666666666666666,\"#ed7953\"],[0.7777777777777778,\"#fb9f3a\"],[0.8888888888888888,\"#fdca26\"],[1.0,\"#f0f921\"]]}],\"heatmapgl\":[{\"type\":\"heatmapgl\",\"colorbar\":{\"outlinewidth\":0,\"ticks\":\"\"},\"colorscale\":[[0.0,\"#0d0887\"],[0.1111111111111111,\"#46039f\"],[0.2222222222222222,\"#7201a8\"],[0.3333333333333333,\"#9c179e\"],[0.4444444444444444,\"#bd3786\"],[0.5555555555555556,\"#d8576b\"],[0.6666666666666666,\"#ed7953\"],[0.7777777777777778,\"#fb9f3a\"],[0.8888888888888888,\"#fdca26\"],[1.0,\"#f0f921\"]]}],\"contourcarpet\":[{\"type\":\"contourcarpet\",\"colorbar\":{\"outlinewidth\":0,\"ticks\":\"\"}}],\"contour\":[{\"type\":\"contour\",\"colorbar\":{\"outlinewidth\":0,\"ticks\":\"\"},\"colorscale\":[[0.0,\"#0d0887\"],[0.1111111111111111,\"#46039f\"],[0.2222222222222222,\"#7201a8\"],[0.3333333333333333,\"#9c179e\"],[0.4444444444444444,\"#bd3786\"],[0.5555555555555556,\"#d8576b\"],[0.6666666666666666,\"#ed7953\"],[0.7777777777777778,\"#fb9f3a\"],[0.8888888888888888,\"#fdca26\"],[1.0,\"#f0f921\"]]}],\"surface\":[{\"type\":\"surface\",\"colorbar\":{\"outlinewidth\":0,\"ticks\":\"\"},\"colorscale\":[[0.0,\"#0d0887\"],[0.1111111111111111,\"#46039f\"],[0.2222222222222222,\"#7201a8\"],[0.3333333333333333,\"#9c179e\"],[0.4444444444444444,\"#bd3786\"],[0.5555555555555556,\"#d8576b\"],[0.6666666666666666,\"#ed7953\"],[0.7777777777777778,\"#fb9f3a\"],[0.8888888888888888,\"#fdca26\"],[1.0,\"#f0f921\"]]}],\"mesh3d\":[{\"type\":\"mesh3d\",\"colorbar\":{\"outlinewidth\":0,\"ticks\":\"\"}}],\"scatter\":[{\"fillpattern\":{\"fillmode\":\"overlay\",\"size\":10,\"solidity\":0.2},\"type\":\"scatter\"}],\"parcoords\":[{\"type\":\"parcoords\",\"line\":{\"colorbar\":{\"outlinewidth\":0,\"ticks\":\"\"}}}],\"scatterpolargl\":[{\"type\":\"scatterpolargl\",\"marker\":{\"colorbar\":{\"outlinewidth\":0,\"ticks\":\"\"}}}],\"bar\":[{\"error_x\":{\"color\":\"#2a3f5f\"},\"error_y\":{\"color\":\"#2a3f5f\"},\"marker\":{\"line\":{\"color\":\"#E5ECF6\",\"width\":0.5},\"pattern\":{\"fillmode\":\"overlay\",\"size\":10,\"solidity\":0.2}},\"type\":\"bar\"}],\"scattergeo\":[{\"type\":\"scattergeo\",\"marker\":{\"colorbar\":{\"outlinewidth\":0,\"ticks\":\"\"}}}],\"scatterpolar\":[{\"type\":\"scatterpolar\",\"marker\":{\"colorbar\":{\"outlinewidth\":0,\"ticks\":\"\"}}}],\"histogram\":[{\"marker\":{\"pattern\":{\"fillmode\":\"overlay\",\"size\":10,\"solidity\":0.2}},\"type\":\"histogram\"}],\"scattergl\":[{\"type\":\"scattergl\",\"marker\":{\"colorbar\":{\"outlinewidth\":0,\"ticks\":\"\"}}}],\"scatter3d\":[{\"type\":\"scatter3d\",\"line\":{\"colorbar\":{\"outlinewidth\":0,\"ticks\":\"\"}},\"marker\":{\"colorbar\":{\"outlinewidth\":0,\"ticks\":\"\"}}}],\"scattermapbox\":[{\"type\":\"scattermapbox\",\"marker\":{\"colorbar\":{\"outlinewidth\":0,\"ticks\":\"\"}}}],\"scatterternary\":[{\"type\":\"scatterternary\",\"marker\":{\"colorbar\":{\"outlinewidth\":0,\"ticks\":\"\"}}}],\"scattercarpet\":[{\"type\":\"scattercarpet\",\"marker\":{\"colorbar\":{\"outlinewidth\":0,\"ticks\":\"\"}}}],\"carpet\":[{\"aaxis\":{\"endlinecolor\":\"#2a3f5f\",\"gridcolor\":\"white\",\"linecolor\":\"white\",\"minorgridcolor\":\"white\",\"startlinecolor\":\"#2a3f5f\"},\"baxis\":{\"endlinecolor\":\"#2a3f5f\",\"gridcolor\":\"white\",\"linecolor\":\"white\",\"minorgridcolor\":\"white\",\"startlinecolor\":\"#2a3f5f\"},\"type\":\"carpet\"}],\"table\":[{\"cells\":{\"fill\":{\"color\":\"#EBF0F8\"},\"line\":{\"color\":\"white\"}},\"header\":{\"fill\":{\"color\":\"#C8D4E3\"},\"line\":{\"color\":\"white\"}},\"type\":\"table\"}],\"barpolar\":[{\"marker\":{\"line\":{\"color\":\"#E5ECF6\",\"width\":0.5},\"pattern\":{\"fillmode\":\"overlay\",\"size\":10,\"solidity\":0.2}},\"type\":\"barpolar\"}],\"pie\":[{\"automargin\":true,\"type\":\"pie\"}]},\"layout\":{\"autotypenumbers\":\"strict\",\"colorway\":[\"#636efa\",\"#EF553B\",\"#00cc96\",\"#ab63fa\",\"#FFA15A\",\"#19d3f3\",\"#FF6692\",\"#B6E880\",\"#FF97FF\",\"#FECB52\"],\"font\":{\"color\":\"#2a3f5f\"},\"hovermode\":\"closest\",\"hoverlabel\":{\"align\":\"left\"},\"paper_bgcolor\":\"white\",\"plot_bgcolor\":\"#E5ECF6\",\"polar\":{\"bgcolor\":\"#E5ECF6\",\"angularaxis\":{\"gridcolor\":\"white\",\"linecolor\":\"white\",\"ticks\":\"\"},\"radialaxis\":{\"gridcolor\":\"white\",\"linecolor\":\"white\",\"ticks\":\"\"}},\"ternary\":{\"bgcolor\":\"#E5ECF6\",\"aaxis\":{\"gridcolor\":\"white\",\"linecolor\":\"white\",\"ticks\":\"\"},\"baxis\":{\"gridcolor\":\"white\",\"linecolor\":\"white\",\"ticks\":\"\"},\"caxis\":{\"gridcolor\":\"white\",\"linecolor\":\"white\",\"ticks\":\"\"}},\"coloraxis\":{\"colorbar\":{\"outlinewidth\":0,\"ticks\":\"\"}},\"colorscale\":{\"sequential\":[[0.0,\"#0d0887\"],[0.1111111111111111,\"#46039f\"],[0.2222222222222222,\"#7201a8\"],[0.3333333333333333,\"#9c179e\"],[0.4444444444444444,\"#bd3786\"],[0.5555555555555556,\"#d8576b\"],[0.6666666666666666,\"#ed7953\"],[0.7777777777777778,\"#fb9f3a\"],[0.8888888888888888,\"#fdca26\"],[1.0,\"#f0f921\"]],\"sequentialminus\":[[0.0,\"#0d0887\"],[0.1111111111111111,\"#46039f\"],[0.2222222222222222,\"#7201a8\"],[0.3333333333333333,\"#9c179e\"],[0.4444444444444444,\"#bd3786\"],[0.5555555555555556,\"#d8576b\"],[0.6666666666666666,\"#ed7953\"],[0.7777777777777778,\"#fb9f3a\"],[0.8888888888888888,\"#fdca26\"],[1.0,\"#f0f921\"]],\"diverging\":[[0,\"#8e0152\"],[0.1,\"#c51b7d\"],[0.2,\"#de77ae\"],[0.3,\"#f1b6da\"],[0.4,\"#fde0ef\"],[0.5,\"#f7f7f7\"],[0.6,\"#e6f5d0\"],[0.7,\"#b8e186\"],[0.8,\"#7fbc41\"],[0.9,\"#4d9221\"],[1,\"#276419\"]]},\"xaxis\":{\"gridcolor\":\"white\",\"linecolor\":\"white\",\"ticks\":\"\",\"title\":{\"standoff\":15},\"zerolinecolor\":\"white\",\"automargin\":true,\"zerolinewidth\":2},\"yaxis\":{\"gridcolor\":\"white\",\"linecolor\":\"white\",\"ticks\":\"\",\"title\":{\"standoff\":15},\"zerolinecolor\":\"white\",\"automargin\":true,\"zerolinewidth\":2},\"scene\":{\"xaxis\":{\"backgroundcolor\":\"#E5ECF6\",\"gridcolor\":\"white\",\"linecolor\":\"white\",\"showbackground\":true,\"ticks\":\"\",\"zerolinecolor\":\"white\",\"gridwidth\":2},\"yaxis\":{\"backgroundcolor\":\"#E5ECF6\",\"gridcolor\":\"white\",\"linecolor\":\"white\",\"showbackground\":true,\"ticks\":\"\",\"zerolinecolor\":\"white\",\"gridwidth\":2},\"zaxis\":{\"backgroundcolor\":\"#E5ECF6\",\"gridcolor\":\"white\",\"linecolor\":\"white\",\"showbackground\":true,\"ticks\":\"\",\"zerolinecolor\":\"white\",\"gridwidth\":2}},\"shapedefaults\":{\"line\":{\"color\":\"#2a3f5f\"}},\"annotationdefaults\":{\"arrowcolor\":\"#2a3f5f\",\"arrowhead\":0,\"arrowwidth\":1},\"geo\":{\"bgcolor\":\"white\",\"landcolor\":\"#E5ECF6\",\"subunitcolor\":\"white\",\"showland\":true,\"showlakes\":true,\"lakecolor\":\"white\"},\"title\":{\"x\":0.05},\"mapbox\":{\"style\":\"light\"}}},\"xaxis\":{\"anchor\":\"y\",\"domain\":[0.0,1.0],\"title\":{\"text\":\"Close\"}},\"yaxis\":{\"anchor\":\"x\",\"domain\":[0.0,1.0],\"title\":{\"text\":\"Avg. Volume\"}},\"legend\":{\"tracegroupgap\":0},\"margin\":{\"t\":60}},                        {\"responsive\": true}                    ).then(function(){\n",
       "                            \n",
       "var gd = document.getElementById('1b7b43d9-27fd-479d-821c-f96a31062826');\n",
       "var x = new MutationObserver(function (mutations, observer) {{\n",
       "        var display = window.getComputedStyle(gd).display;\n",
       "        if (!display || display === 'none') {{\n",
       "            console.log([gd, 'removed!']);\n",
       "            Plotly.purge(gd);\n",
       "            observer.disconnect();\n",
       "        }}\n",
       "}});\n",
       "\n",
       "// Listen for the removal of the full notebook cells\n",
       "var notebookContainer = gd.closest('#notebook-container');\n",
       "if (notebookContainer) {{\n",
       "    x.observe(notebookContainer, {childList: true});\n",
       "}}\n",
       "\n",
       "// Listen for the clearing of the current output cell\n",
       "var outputEl = gd.closest('.output');\n",
       "if (outputEl) {{\n",
       "    x.observe(outputEl, {childList: true});\n",
       "}}\n",
       "\n",
       "                        })                };                });            </script>        </div>"
      ]
     },
     "metadata": {},
     "output_type": "display_data"
    }
   ],
   "source": [
    "import plotly.express as px\n",
    "fig = px.scatter(stock_data1, x = \"Close\", y = \"Avg. Volume\")\n",
    "fig.show()\n",
    "    "
   ]
  },
  {
   "cell_type": "code",
   "execution_count": 147,
   "id": "66b99241-d32d-42f5-ae14-d42d9ea2dc78",
   "metadata": {},
   "outputs": [
    {
     "data": {
      "application/vnd.plotly.v1+json": {
       "config": {
        "plotlyServerURL": "https://plot.ly"
       },
       "data": [
        {
         "hovertemplate": "Open=%{x}<br>Close=%{y}<extra></extra>",
         "legendgroup": "",
         "marker": {
          "color": "#636efa",
          "symbol": "circle"
         },
         "mode": "markers",
         "name": "",
         "orientation": "v",
         "showlegend": false,
         "type": "scatter",
         "x": [
          101.38,
          95.59,
          97.22,
          109.2,
          115.53,
          108.34,
          114.93,
          113.91,
          140.01,
          134.48,
          137.84,
          144.48,
          144.21,
          148.17,
          133.55,
          145.65,
          135.48,
          124.85,
          121.1,
          120.14,
          104.9,
          102.83,
          92.68,
          87.88,
          88.72,
          81.41,
          74.21,
          81.83,
          74.33,
          70.56,
          70.92,
          66.43,
          56.1,
          67.58,
          73.1,
          67.08,
          65.05,
          63.25,
          60.95,
          58.85,
          60.7,
          54.9,
          53.28,
          59.4,
          59.21,
          56.25,
          55.62,
          50.83,
          56.16,
          53.79,
          59.99,
          60.21,
          61.4,
          54.95,
          54.97,
          50.68,
          51.14,
          55.39,
          58.13,
          52.42,
          50.79,
          50.86,
          48,
          47.06,
          46.62,
          45.61,
          48.45,
          45.1,
          41.46,
          41.44,
          39.98,
          38.94,
          37.87,
          39.14,
          38.71,
          38.46,
          38.05,
          34.61,
          36.73,
          34.88,
          36.93,
          35.18,
          37.52,
          37.15,
          37.36,
          35.55,
          30.42,
          30.12,
          31.27,
          26.24,
          26.84,
          26.92,
          27.43,
          28.03,
          26.59,
          26.45,
          26.94,
          27.77,
          28.8,
          28.59,
          28.52,
          28.92,
          28.03,
          26.35,
          27.93,
          28.4
         ],
         "xaxis": "x",
         "y": [
          101.28,
          101.45,
          94.66,
          96.15,
          109.15,
          116.64,
          109.37,
          114.04,
          114.97,
          139.65,
          134.89,
          135.7,
          144.68,
          142.45,
          148.27,
          133.27,
          145.46,
          135.22,
          125.32,
          120.58,
          120.51,
          103.43,
          101.84,
          91.79,
          87.59,
          88.04,
          81.05,
          73.48,
          81.71,
          74.15,
          70.68,
          71.45,
          67.43,
          58.14,
          66.97,
          71.71,
          66.85,
          65.25,
          63.01,
          60.95,
          59.41,
          60.83,
          54.05,
          55.18,
          59.42,
          58.67,
          56,
          55.82,
          51.78,
          54.72,
          53.84,
          59.67,
          60.91,
          60.86,
          55.78,
          54.25,
          50.87,
          51.59,
          55.24,
          58.5,
          52.32,
          51.07,
          50.83,
          47.96,
          46.97,
          46.53,
          45.44,
          48.24,
          45.3,
          41.48,
          41.16,
          39.84,
          38.59,
          37.9,
          39.23,
          38.86,
          38.35,
          38.44,
          34.61,
          36.79,
          34.65,
          37.25,
          34.89,
          37.15,
          37.94,
          37.13,
          35.54,
          30.42,
          30.91,
          31.28,
          26.03,
          26.61,
          26.87,
          27.4,
          27.92,
          26.73,
          26.32,
          27.09,
          27.95,
          28.87,
          28.58,
          28.58,
          28.76,
          27.99,
          26.33,
          27.85
         ],
         "yaxis": "y"
        }
       ],
       "layout": {
        "autosize": true,
        "legend": {
         "tracegroupgap": 0
        },
        "margin": {
         "t": 60
        },
        "template": {
         "data": {
          "bar": [
           {
            "error_x": {
             "color": "#2a3f5f"
            },
            "error_y": {
             "color": "#2a3f5f"
            },
            "marker": {
             "line": {
              "color": "#E5ECF6",
              "width": 0.5
             },
             "pattern": {
              "fillmode": "overlay",
              "size": 10,
              "solidity": 0.2
             }
            },
            "type": "bar"
           }
          ],
          "barpolar": [
           {
            "marker": {
             "line": {
              "color": "#E5ECF6",
              "width": 0.5
             },
             "pattern": {
              "fillmode": "overlay",
              "size": 10,
              "solidity": 0.2
             }
            },
            "type": "barpolar"
           }
          ],
          "carpet": [
           {
            "aaxis": {
             "endlinecolor": "#2a3f5f",
             "gridcolor": "white",
             "linecolor": "white",
             "minorgridcolor": "white",
             "startlinecolor": "#2a3f5f"
            },
            "baxis": {
             "endlinecolor": "#2a3f5f",
             "gridcolor": "white",
             "linecolor": "white",
             "minorgridcolor": "white",
             "startlinecolor": "#2a3f5f"
            },
            "type": "carpet"
           }
          ],
          "choropleth": [
           {
            "colorbar": {
             "outlinewidth": 0,
             "ticks": ""
            },
            "type": "choropleth"
           }
          ],
          "contour": [
           {
            "colorbar": {
             "outlinewidth": 0,
             "ticks": ""
            },
            "colorscale": [
             [
              0,
              "#0d0887"
             ],
             [
              0.1111111111111111,
              "#46039f"
             ],
             [
              0.2222222222222222,
              "#7201a8"
             ],
             [
              0.3333333333333333,
              "#9c179e"
             ],
             [
              0.4444444444444444,
              "#bd3786"
             ],
             [
              0.5555555555555556,
              "#d8576b"
             ],
             [
              0.6666666666666666,
              "#ed7953"
             ],
             [
              0.7777777777777778,
              "#fb9f3a"
             ],
             [
              0.8888888888888888,
              "#fdca26"
             ],
             [
              1,
              "#f0f921"
             ]
            ],
            "type": "contour"
           }
          ],
          "contourcarpet": [
           {
            "colorbar": {
             "outlinewidth": 0,
             "ticks": ""
            },
            "type": "contourcarpet"
           }
          ],
          "heatmap": [
           {
            "colorbar": {
             "outlinewidth": 0,
             "ticks": ""
            },
            "colorscale": [
             [
              0,
              "#0d0887"
             ],
             [
              0.1111111111111111,
              "#46039f"
             ],
             [
              0.2222222222222222,
              "#7201a8"
             ],
             [
              0.3333333333333333,
              "#9c179e"
             ],
             [
              0.4444444444444444,
              "#bd3786"
             ],
             [
              0.5555555555555556,
              "#d8576b"
             ],
             [
              0.6666666666666666,
              "#ed7953"
             ],
             [
              0.7777777777777778,
              "#fb9f3a"
             ],
             [
              0.8888888888888888,
              "#fdca26"
             ],
             [
              1,
              "#f0f921"
             ]
            ],
            "type": "heatmap"
           }
          ],
          "heatmapgl": [
           {
            "colorbar": {
             "outlinewidth": 0,
             "ticks": ""
            },
            "colorscale": [
             [
              0,
              "#0d0887"
             ],
             [
              0.1111111111111111,
              "#46039f"
             ],
             [
              0.2222222222222222,
              "#7201a8"
             ],
             [
              0.3333333333333333,
              "#9c179e"
             ],
             [
              0.4444444444444444,
              "#bd3786"
             ],
             [
              0.5555555555555556,
              "#d8576b"
             ],
             [
              0.6666666666666666,
              "#ed7953"
             ],
             [
              0.7777777777777778,
              "#fb9f3a"
             ],
             [
              0.8888888888888888,
              "#fdca26"
             ],
             [
              1,
              "#f0f921"
             ]
            ],
            "type": "heatmapgl"
           }
          ],
          "histogram": [
           {
            "marker": {
             "pattern": {
              "fillmode": "overlay",
              "size": 10,
              "solidity": 0.2
             }
            },
            "type": "histogram"
           }
          ],
          "histogram2d": [
           {
            "colorbar": {
             "outlinewidth": 0,
             "ticks": ""
            },
            "colorscale": [
             [
              0,
              "#0d0887"
             ],
             [
              0.1111111111111111,
              "#46039f"
             ],
             [
              0.2222222222222222,
              "#7201a8"
             ],
             [
              0.3333333333333333,
              "#9c179e"
             ],
             [
              0.4444444444444444,
              "#bd3786"
             ],
             [
              0.5555555555555556,
              "#d8576b"
             ],
             [
              0.6666666666666666,
              "#ed7953"
             ],
             [
              0.7777777777777778,
              "#fb9f3a"
             ],
             [
              0.8888888888888888,
              "#fdca26"
             ],
             [
              1,
              "#f0f921"
             ]
            ],
            "type": "histogram2d"
           }
          ],
          "histogram2dcontour": [
           {
            "colorbar": {
             "outlinewidth": 0,
             "ticks": ""
            },
            "colorscale": [
             [
              0,
              "#0d0887"
             ],
             [
              0.1111111111111111,
              "#46039f"
             ],
             [
              0.2222222222222222,
              "#7201a8"
             ],
             [
              0.3333333333333333,
              "#9c179e"
             ],
             [
              0.4444444444444444,
              "#bd3786"
             ],
             [
              0.5555555555555556,
              "#d8576b"
             ],
             [
              0.6666666666666666,
              "#ed7953"
             ],
             [
              0.7777777777777778,
              "#fb9f3a"
             ],
             [
              0.8888888888888888,
              "#fdca26"
             ],
             [
              1,
              "#f0f921"
             ]
            ],
            "type": "histogram2dcontour"
           }
          ],
          "mesh3d": [
           {
            "colorbar": {
             "outlinewidth": 0,
             "ticks": ""
            },
            "type": "mesh3d"
           }
          ],
          "parcoords": [
           {
            "line": {
             "colorbar": {
              "outlinewidth": 0,
              "ticks": ""
             }
            },
            "type": "parcoords"
           }
          ],
          "pie": [
           {
            "automargin": true,
            "type": "pie"
           }
          ],
          "scatter": [
           {
            "fillpattern": {
             "fillmode": "overlay",
             "size": 10,
             "solidity": 0.2
            },
            "type": "scatter"
           }
          ],
          "scatter3d": [
           {
            "line": {
             "colorbar": {
              "outlinewidth": 0,
              "ticks": ""
             }
            },
            "marker": {
             "colorbar": {
              "outlinewidth": 0,
              "ticks": ""
             }
            },
            "type": "scatter3d"
           }
          ],
          "scattercarpet": [
           {
            "marker": {
             "colorbar": {
              "outlinewidth": 0,
              "ticks": ""
             }
            },
            "type": "scattercarpet"
           }
          ],
          "scattergeo": [
           {
            "marker": {
             "colorbar": {
              "outlinewidth": 0,
              "ticks": ""
             }
            },
            "type": "scattergeo"
           }
          ],
          "scattergl": [
           {
            "marker": {
             "colorbar": {
              "outlinewidth": 0,
              "ticks": ""
             }
            },
            "type": "scattergl"
           }
          ],
          "scattermapbox": [
           {
            "marker": {
             "colorbar": {
              "outlinewidth": 0,
              "ticks": ""
             }
            },
            "type": "scattermapbox"
           }
          ],
          "scatterpolar": [
           {
            "marker": {
             "colorbar": {
              "outlinewidth": 0,
              "ticks": ""
             }
            },
            "type": "scatterpolar"
           }
          ],
          "scatterpolargl": [
           {
            "marker": {
             "colorbar": {
              "outlinewidth": 0,
              "ticks": ""
             }
            },
            "type": "scatterpolargl"
           }
          ],
          "scatterternary": [
           {
            "marker": {
             "colorbar": {
              "outlinewidth": 0,
              "ticks": ""
             }
            },
            "type": "scatterternary"
           }
          ],
          "surface": [
           {
            "colorbar": {
             "outlinewidth": 0,
             "ticks": ""
            },
            "colorscale": [
             [
              0,
              "#0d0887"
             ],
             [
              0.1111111111111111,
              "#46039f"
             ],
             [
              0.2222222222222222,
              "#7201a8"
             ],
             [
              0.3333333333333333,
              "#9c179e"
             ],
             [
              0.4444444444444444,
              "#bd3786"
             ],
             [
              0.5555555555555556,
              "#d8576b"
             ],
             [
              0.6666666666666666,
              "#ed7953"
             ],
             [
              0.7777777777777778,
              "#fb9f3a"
             ],
             [
              0.8888888888888888,
              "#fdca26"
             ],
             [
              1,
              "#f0f921"
             ]
            ],
            "type": "surface"
           }
          ],
          "table": [
           {
            "cells": {
             "fill": {
              "color": "#EBF0F8"
             },
             "line": {
              "color": "white"
             }
            },
            "header": {
             "fill": {
              "color": "#C8D4E3"
             },
             "line": {
              "color": "white"
             }
            },
            "type": "table"
           }
          ]
         },
         "layout": {
          "annotationdefaults": {
           "arrowcolor": "#2a3f5f",
           "arrowhead": 0,
           "arrowwidth": 1
          },
          "autotypenumbers": "strict",
          "coloraxis": {
           "colorbar": {
            "outlinewidth": 0,
            "ticks": ""
           }
          },
          "colorscale": {
           "diverging": [
            [
             0,
             "#8e0152"
            ],
            [
             0.1,
             "#c51b7d"
            ],
            [
             0.2,
             "#de77ae"
            ],
            [
             0.3,
             "#f1b6da"
            ],
            [
             0.4,
             "#fde0ef"
            ],
            [
             0.5,
             "#f7f7f7"
            ],
            [
             0.6,
             "#e6f5d0"
            ],
            [
             0.7,
             "#b8e186"
            ],
            [
             0.8,
             "#7fbc41"
            ],
            [
             0.9,
             "#4d9221"
            ],
            [
             1,
             "#276419"
            ]
           ],
           "sequential": [
            [
             0,
             "#0d0887"
            ],
            [
             0.1111111111111111,
             "#46039f"
            ],
            [
             0.2222222222222222,
             "#7201a8"
            ],
            [
             0.3333333333333333,
             "#9c179e"
            ],
            [
             0.4444444444444444,
             "#bd3786"
            ],
            [
             0.5555555555555556,
             "#d8576b"
            ],
            [
             0.6666666666666666,
             "#ed7953"
            ],
            [
             0.7777777777777778,
             "#fb9f3a"
            ],
            [
             0.8888888888888888,
             "#fdca26"
            ],
            [
             1,
             "#f0f921"
            ]
           ],
           "sequentialminus": [
            [
             0,
             "#0d0887"
            ],
            [
             0.1111111111111111,
             "#46039f"
            ],
            [
             0.2222222222222222,
             "#7201a8"
            ],
            [
             0.3333333333333333,
             "#9c179e"
            ],
            [
             0.4444444444444444,
             "#bd3786"
            ],
            [
             0.5555555555555556,
             "#d8576b"
            ],
            [
             0.6666666666666666,
             "#ed7953"
            ],
            [
             0.7777777777777778,
             "#fb9f3a"
            ],
            [
             0.8888888888888888,
             "#fdca26"
            ],
            [
             1,
             "#f0f921"
            ]
           ]
          },
          "colorway": [
           "#636efa",
           "#EF553B",
           "#00cc96",
           "#ab63fa",
           "#FFA15A",
           "#19d3f3",
           "#FF6692",
           "#B6E880",
           "#FF97FF",
           "#FECB52"
          ],
          "font": {
           "color": "#2a3f5f"
          },
          "geo": {
           "bgcolor": "white",
           "lakecolor": "white",
           "landcolor": "#E5ECF6",
           "showlakes": true,
           "showland": true,
           "subunitcolor": "white"
          },
          "hoverlabel": {
           "align": "left"
          },
          "hovermode": "closest",
          "mapbox": {
           "style": "light"
          },
          "paper_bgcolor": "white",
          "plot_bgcolor": "#E5ECF6",
          "polar": {
           "angularaxis": {
            "gridcolor": "white",
            "linecolor": "white",
            "ticks": ""
           },
           "bgcolor": "#E5ECF6",
           "radialaxis": {
            "gridcolor": "white",
            "linecolor": "white",
            "ticks": ""
           }
          },
          "scene": {
           "xaxis": {
            "backgroundcolor": "#E5ECF6",
            "gridcolor": "white",
            "gridwidth": 2,
            "linecolor": "white",
            "showbackground": true,
            "ticks": "",
            "zerolinecolor": "white"
           },
           "yaxis": {
            "backgroundcolor": "#E5ECF6",
            "gridcolor": "white",
            "gridwidth": 2,
            "linecolor": "white",
            "showbackground": true,
            "ticks": "",
            "zerolinecolor": "white"
           },
           "zaxis": {
            "backgroundcolor": "#E5ECF6",
            "gridcolor": "white",
            "gridwidth": 2,
            "linecolor": "white",
            "showbackground": true,
            "ticks": "",
            "zerolinecolor": "white"
           }
          },
          "shapedefaults": {
           "line": {
            "color": "#2a3f5f"
           }
          },
          "ternary": {
           "aaxis": {
            "gridcolor": "white",
            "linecolor": "white",
            "ticks": ""
           },
           "baxis": {
            "gridcolor": "white",
            "linecolor": "white",
            "ticks": ""
           },
           "bgcolor": "#E5ECF6",
           "caxis": {
            "gridcolor": "white",
            "linecolor": "white",
            "ticks": ""
           }
          },
          "title": {
           "x": 0.05
          },
          "xaxis": {
           "automargin": true,
           "gridcolor": "white",
           "linecolor": "white",
           "ticks": "",
           "title": {
            "standoff": 15
           },
           "zerolinecolor": "white",
           "zerolinewidth": 2
          },
          "yaxis": {
           "automargin": true,
           "gridcolor": "white",
           "linecolor": "white",
           "ticks": "",
           "title": {
            "standoff": 15
           },
           "zerolinecolor": "white",
           "zerolinewidth": 2
          }
         }
        },
        "xaxis": {
         "anchor": "y",
         "autorange": true,
         "domain": [
          0,
          1
         ],
         "range": [
          19.007424160346694,
          155.40257583965328
         ],
         "title": {
          "text": "Open"
         },
         "type": "linear"
        },
        "yaxis": {
         "anchor": "x",
         "autorange": true,
         "domain": [
          0,
          1
         ],
         "range": [
          16.565223097112863,
          157.73477690288715
         ],
         "title": {
          "text": "Close"
         },
         "type": "linear"
        }
       }
      },
      "image/png": "[encoded data removed]",
      "text/html": [
       "<div>                            <div id=\"c77f8625-6a6d-425c-88f2-746df1336357\" class=\"plotly-graph-div\" style=\"height:525px; width:100%;\"></div>            <script type=\"text/javascript\">                require([\"plotly\"], function(Plotly) {                    window.PLOTLYENV=window.PLOTLYENV || {};                                    if (document.getElementById(\"c77f8625-6a6d-425c-88f2-746df1336357\")) {                    Plotly.newPlot(                        \"c77f8625-6a6d-425c-88f2-746df1336357\",                        [{\"hovertemplate\":\"Open=%{x}<br>Close=%{y}<extra></extra>\",\"legendgroup\":\"\",\"marker\":{\"color\":\"#636efa\",\"symbol\":\"circle\"},\"mode\":\"markers\",\"name\":\"\",\"orientation\":\"v\",\"showlegend\":false,\"x\":[101.38,95.59,97.22,109.2,115.53,108.34,114.93,113.91,140.01,134.48,137.84,144.48,144.21,148.17,133.55,145.65,135.48,124.85,121.1,120.14,104.9,102.83,92.68,87.88,88.72,81.41,74.21,81.83,74.33,70.56,70.92,66.43,56.1,67.58,73.1,67.08,65.05,63.25,60.95,58.85,60.7,54.9,53.28,59.4,59.21,56.25,55.62,50.83,56.16,53.79,59.99,60.21,61.4,54.95,54.97,50.68,51.14,55.39,58.13,52.42,50.79,50.86,48.0,47.06,46.62,45.61,48.45,45.1,41.46,41.44,39.98,38.94,37.87,39.14,38.71,38.46,38.05,34.61,36.73,34.88,36.93,35.18,37.52,37.15,37.36,35.55,30.42,30.12,31.27,26.24,26.84,26.92,27.43,28.03,26.59,26.45,26.94,27.77,28.8,28.59,28.52,28.92,28.03,26.35,27.93,28.4],\"xaxis\":\"x\",\"y\":[101.28,101.45,94.66,96.15,109.15,116.64,109.37,114.04,114.97,139.65,134.89,135.7,144.68,142.45,148.27,133.27,145.46,135.22,125.32,120.58,120.51,103.43,101.84,91.79,87.59,88.04,81.05,73.48,81.71,74.15,70.68,71.45,67.43,58.14,66.97,71.71,66.85,65.25,63.01,60.95,59.41,60.83,54.05,55.18,59.42,58.67,56.0,55.82,51.78,54.72,53.84,59.67,60.91,60.86,55.78,54.25,50.87,51.59,55.24,58.5,52.32,51.07,50.83,47.96,46.97,46.53,45.44,48.24,45.3,41.48,41.16,39.84,38.59,37.9,39.23,38.86,38.35,38.44,34.61,36.79,34.65,37.25,34.89,37.15,37.94,37.13,35.54,30.42,30.91,31.28,26.03,26.61,26.87,27.4,27.92,26.73,26.32,27.09,27.95,28.87,28.58,28.58,28.76,27.99,26.33,27.85],\"yaxis\":\"y\",\"type\":\"scatter\"}],                        {\"template\":{\"data\":{\"histogram2dcontour\":[{\"type\":\"histogram2dcontour\",\"colorbar\":{\"outlinewidth\":0,\"ticks\":\"\"},\"colorscale\":[[0.0,\"#0d0887\"],[0.1111111111111111,\"#46039f\"],[0.2222222222222222,\"#7201a8\"],[0.3333333333333333,\"#9c179e\"],[0.4444444444444444,\"#bd3786\"],[0.5555555555555556,\"#d8576b\"],[0.6666666666666666,\"#ed7953\"],[0.7777777777777778,\"#fb9f3a\"],[0.8888888888888888,\"#fdca26\"],[1.0,\"#f0f921\"]]}],\"choropleth\":[{\"type\":\"choropleth\",\"colorbar\":{\"outlinewidth\":0,\"ticks\":\"\"}}],\"histogram2d\":[{\"type\":\"histogram2d\",\"colorbar\":{\"outlinewidth\":0,\"ticks\":\"\"},\"colorscale\":[[0.0,\"#0d0887\"],[0.1111111111111111,\"#46039f\"],[0.2222222222222222,\"#7201a8\"],[0.3333333333333333,\"#9c179e\"],[0.4444444444444444,\"#bd3786\"],[0.5555555555555556,\"#d8576b\"],[0.6666666666666666,\"#ed7953\"],[0.7777777777777778,\"#fb9f3a\"],[0.8888888888888888,\"#fdca26\"],[1.0,\"#f0f921\"]]}],\"heatmap\":[{\"type\":\"heatmap\",\"colorbar\":{\"outlinewidth\":0,\"ticks\":\"\"},\"colorscale\":[[0.0,\"#0d0887\"],[0.1111111111111111,\"#46039f\"],[0.2222222222222222,\"#7201a8\"],[0.3333333333333333,\"#9c179e\"],[0.4444444444444444,\"#bd3786\"],[0.5555555555555556,\"#d8576b\"],[0.6666666666666666,\"#ed7953\"],[0.7777777777777778,\"#fb9f3a\"],[0.8888888888888888,\"#fdca26\"],[1.0,\"#f0f921\"]]}],\"heatmapgl\":[{\"type\":\"heatmapgl\",\"colorbar\":{\"outlinewidth\":0,\"ticks\":\"\"},\"colorscale\":[[0.0,\"#0d0887\"],[0.1111111111111111,\"#46039f\"],[0.2222222222222222,\"#7201a8\"],[0.3333333333333333,\"#9c179e\"],[0.4444444444444444,\"#bd3786\"],[0.5555555555555556,\"#d8576b\"],[0.6666666666666666,\"#ed7953\"],[0.7777777777777778,\"#fb9f3a\"],[0.8888888888888888,\"#fdca26\"],[1.0,\"#f0f921\"]]}],\"contourcarpet\":[{\"type\":\"contourcarpet\",\"colorbar\":{\"outlinewidth\":0,\"ticks\":\"\"}}],\"contour\":[{\"type\":\"contour\",\"colorbar\":{\"outlinewidth\":0,\"ticks\":\"\"},\"colorscale\":[[0.0,\"#0d0887\"],[0.1111111111111111,\"#46039f\"],[0.2222222222222222,\"#7201a8\"],[0.3333333333333333,\"#9c179e\"],[0.4444444444444444,\"#bd3786\"],[0.5555555555555556,\"#d8576b\"],[0.6666666666666666,\"#ed7953\"],[0.7777777777777778,\"#fb9f3a\"],[0.8888888888888888,\"#fdca26\"],[1.0,\"#f0f921\"]]}],\"surface\":[{\"type\":\"surface\",\"colorbar\":{\"outlinewidth\":0,\"ticks\":\"\"},\"colorscale\":[[0.0,\"#0d0887\"],[0.1111111111111111,\"#46039f\"],[0.2222222222222222,\"#7201a8\"],[0.3333333333333333,\"#9c179e\"],[0.4444444444444444,\"#bd3786\"],[0.5555555555555556,\"#d8576b\"],[0.6666666666666666,\"#ed7953\"],[0.7777777777777778,\"#fb9f3a\"],[0.8888888888888888,\"#fdca26\"],[1.0,\"#f0f921\"]]}],\"mesh3d\":[{\"type\":\"mesh3d\",\"colorbar\":{\"outlinewidth\":0,\"ticks\":\"\"}}],\"scatter\":[{\"fillpattern\":{\"fillmode\":\"overlay\",\"size\":10,\"solidity\":0.2},\"type\":\"scatter\"}],\"parcoords\":[{\"type\":\"parcoords\",\"line\":{\"colorbar\":{\"outlinewidth\":0,\"ticks\":\"\"}}}],\"scatterpolargl\":[{\"type\":\"scatterpolargl\",\"marker\":{\"colorbar\":{\"outlinewidth\":0,\"ticks\":\"\"}}}],\"bar\":[{\"error_x\":{\"color\":\"#2a3f5f\"},\"error_y\":{\"color\":\"#2a3f5f\"},\"marker\":{\"line\":{\"color\":\"#E5ECF6\",\"width\":0.5},\"pattern\":{\"fillmode\":\"overlay\",\"size\":10,\"solidity\":0.2}},\"type\":\"bar\"}],\"scattergeo\":[{\"type\":\"scattergeo\",\"marker\":{\"colorbar\":{\"outlinewidth\":0,\"ticks\":\"\"}}}],\"scatterpolar\":[{\"type\":\"scatterpolar\",\"marker\":{\"colorbar\":{\"outlinewidth\":0,\"ticks\":\"\"}}}],\"histogram\":[{\"marker\":{\"pattern\":{\"fillmode\":\"overlay\",\"size\":10,\"solidity\":0.2}},\"type\":\"histogram\"}],\"scattergl\":[{\"type\":\"scattergl\",\"marker\":{\"colorbar\":{\"outlinewidth\":0,\"ticks\":\"\"}}}],\"scatter3d\":[{\"type\":\"scatter3d\",\"line\":{\"colorbar\":{\"outlinewidth\":0,\"ticks\":\"\"}},\"marker\":{\"colorbar\":{\"outlinewidth\":0,\"ticks\":\"\"}}}],\"scattermapbox\":[{\"type\":\"scattermapbox\",\"marker\":{\"colorbar\":{\"outlinewidth\":0,\"ticks\":\"\"}}}],\"scatterternary\":[{\"type\":\"scatterternary\",\"marker\":{\"colorbar\":{\"outlinewidth\":0,\"ticks\":\"\"}}}],\"scattercarpet\":[{\"type\":\"scattercarpet\",\"marker\":{\"colorbar\":{\"outlinewidth\":0,\"ticks\":\"\"}}}],\"carpet\":[{\"aaxis\":{\"endlinecolor\":\"#2a3f5f\",\"gridcolor\":\"white\",\"linecolor\":\"white\",\"minorgridcolor\":\"white\",\"startlinecolor\":\"#2a3f5f\"},\"baxis\":{\"endlinecolor\":\"#2a3f5f\",\"gridcolor\":\"white\",\"linecolor\":\"white\",\"minorgridcolor\":\"white\",\"startlinecolor\":\"#2a3f5f\"},\"type\":\"carpet\"}],\"table\":[{\"cells\":{\"fill\":{\"color\":\"#EBF0F8\"},\"line\":{\"color\":\"white\"}},\"header\":{\"fill\":{\"color\":\"#C8D4E3\"},\"line\":{\"color\":\"white\"}},\"type\":\"table\"}],\"barpolar\":[{\"marker\":{\"line\":{\"color\":\"#E5ECF6\",\"width\":0.5},\"pattern\":{\"fillmode\":\"overlay\",\"size\":10,\"solidity\":0.2}},\"type\":\"barpolar\"}],\"pie\":[{\"automargin\":true,\"type\":\"pie\"}]},\"layout\":{\"autotypenumbers\":\"strict\",\"colorway\":[\"#636efa\",\"#EF553B\",\"#00cc96\",\"#ab63fa\",\"#FFA15A\",\"#19d3f3\",\"#FF6692\",\"#B6E880\",\"#FF97FF\",\"#FECB52\"],\"font\":{\"color\":\"#2a3f5f\"},\"hovermode\":\"closest\",\"hoverlabel\":{\"align\":\"left\"},\"paper_bgcolor\":\"white\",\"plot_bgcolor\":\"#E5ECF6\",\"polar\":{\"bgcolor\":\"#E5ECF6\",\"angularaxis\":{\"gridcolor\":\"white\",\"linecolor\":\"white\",\"ticks\":\"\"},\"radialaxis\":{\"gridcolor\":\"white\",\"linecolor\":\"white\",\"ticks\":\"\"}},\"ternary\":{\"bgcolor\":\"#E5ECF6\",\"aaxis\":{\"gridcolor\":\"white\",\"linecolor\":\"white\",\"ticks\":\"\"},\"baxis\":{\"gridcolor\":\"white\",\"linecolor\":\"white\",\"ticks\":\"\"},\"caxis\":{\"gridcolor\":\"white\",\"linecolor\":\"white\",\"ticks\":\"\"}},\"coloraxis\":{\"colorbar\":{\"outlinewidth\":0,\"ticks\":\"\"}},\"colorscale\":{\"sequential\":[[0.0,\"#0d0887\"],[0.1111111111111111,\"#46039f\"],[0.2222222222222222,\"#7201a8\"],[0.3333333333333333,\"#9c179e\"],[0.4444444444444444,\"#bd3786\"],[0.5555555555555556,\"#d8576b\"],[0.6666666666666666,\"#ed7953\"],[0.7777777777777778,\"#fb9f3a\"],[0.8888888888888888,\"#fdca26\"],[1.0,\"#f0f921\"]],\"sequentialminus\":[[0.0,\"#0d0887\"],[0.1111111111111111,\"#46039f\"],[0.2222222222222222,\"#7201a8\"],[0.3333333333333333,\"#9c179e\"],[0.4444444444444444,\"#bd3786\"],[0.5555555555555556,\"#d8576b\"],[0.6666666666666666,\"#ed7953\"],[0.7777777777777778,\"#fb9f3a\"],[0.8888888888888888,\"#fdca26\"],[1.0,\"#f0f921\"]],\"diverging\":[[0,\"#8e0152\"],[0.1,\"#c51b7d\"],[0.2,\"#de77ae\"],[0.3,\"#f1b6da\"],[0.4,\"#fde0ef\"],[0.5,\"#f7f7f7\"],[0.6,\"#e6f5d0\"],[0.7,\"#b8e186\"],[0.8,\"#7fbc41\"],[0.9,\"#4d9221\"],[1,\"#276419\"]]},\"xaxis\":{\"gridcolor\":\"white\",\"linecolor\":\"white\",\"ticks\":\"\",\"title\":{\"standoff\":15},\"zerolinecolor\":\"white\",\"automargin\":true,\"zerolinewidth\":2},\"yaxis\":{\"gridcolor\":\"white\",\"linecolor\":\"white\",\"ticks\":\"\",\"title\":{\"standoff\":15},\"zerolinecolor\":\"white\",\"automargin\":true,\"zerolinewidth\":2},\"scene\":{\"xaxis\":{\"backgroundcolor\":\"#E5ECF6\",\"gridcolor\":\"white\",\"linecolor\":\"white\",\"showbackground\":true,\"ticks\":\"\",\"zerolinecolor\":\"white\",\"gridwidth\":2},\"yaxis\":{\"backgroundcolor\":\"#E5ECF6\",\"gridcolor\":\"white\",\"linecolor\":\"white\",\"showbackground\":true,\"ticks\":\"\",\"zerolinecolor\":\"white\",\"gridwidth\":2},\"zaxis\":{\"backgroundcolor\":\"#E5ECF6\",\"gridcolor\":\"white\",\"linecolor\":\"white\",\"showbackground\":true,\"ticks\":\"\",\"zerolinecolor\":\"white\",\"gridwidth\":2}},\"shapedefaults\":{\"line\":{\"color\":\"#2a3f5f\"}},\"annotationdefaults\":{\"arrowcolor\":\"#2a3f5f\",\"arrowhead\":0,\"arrowwidth\":1},\"geo\":{\"bgcolor\":\"white\",\"landcolor\":\"#E5ECF6\",\"subunitcolor\":\"white\",\"showland\":true,\"showlakes\":true,\"lakecolor\":\"white\"},\"title\":{\"x\":0.05},\"mapbox\":{\"style\":\"light\"}}},\"xaxis\":{\"anchor\":\"y\",\"domain\":[0.0,1.0],\"title\":{\"text\":\"Open\"}},\"yaxis\":{\"anchor\":\"x\",\"domain\":[0.0,1.0],\"title\":{\"text\":\"Close\"}},\"legend\":{\"tracegroupgap\":0},\"margin\":{\"t\":60}},                        {\"responsive\": true}                    ).then(function(){\n",
       "                            \n",
       "var gd = document.getElementById('c77f8625-6a6d-425c-88f2-746df1336357');\n",
       "var x = new MutationObserver(function (mutations, observer) {{\n",
       "        var display = window.getComputedStyle(gd).display;\n",
       "        if (!display || display === 'none') {{\n",
       "            console.log([gd, 'removed!']);\n",
       "            Plotly.purge(gd);\n",
       "            observer.disconnect();\n",
       "        }}\n",
       "}});\n",
       "\n",
       "// Listen for the removal of the full notebook cells\n",
       "var notebookContainer = gd.closest('#notebook-container');\n",
       "if (notebookContainer) {{\n",
       "    x.observe(notebookContainer, {childList: true});\n",
       "}}\n",
       "\n",
       "// Listen for the clearing of the current output cell\n",
       "var outputEl = gd.closest('.output');\n",
       "if (outputEl) {{\n",
       "    x.observe(outputEl, {childList: true});\n",
       "}}\n",
       "\n",
       "                        })                };                });            </script>        </div>"
      ]
     },
     "metadata": {},
     "output_type": "display_data"
    }
   ],
   "source": [
    "fig = px.scatter(stock_data1, x = \"Open\", y = \"Close\")\n",
    "fig.show()"
   ]
  },
  {
   "cell_type": "markdown",
   "id": "a768c4a2-b0d2-48f7-b67d-cb68f66584d6",
   "metadata": {},
   "source": [
    "Scatter Plot Depicting the Linearity, spread and association of the Variables"
   ]
  },
  {
   "cell_type": "markdown",
   "id": "8a46813d",
   "metadata": {},
   "source": [
    "Testing Causation using Granger’s Causality Test\n",
    "\n",
    "If a given p-value is < significance level (0.05), then, the corresponding X series (column) causes the Y (row).\n",
    "So, you can reject the null hypothesis and conclude Open_x causes Close_y"
   ]
  },
  {
   "cell_type": "code",
   "execution_count": 148,
   "id": "203618df-8ec2-48bc-b786-b1913043f846",
   "metadata": {},
   "outputs": [
    {
     "data": {
      "text/html": [
       "<div>\n",
       "<style scoped>\n",
       "    .dataframe tbody tr th:only-of-type {\n",
       "        vertical-align: middle;\n",
       "    }\n",
       "\n",
       "    .dataframe tbody tr th {\n",
       "        vertical-align: top;\n",
       "    }\n",
       "\n",
       "    .dataframe thead th {\n",
       "        text-align: right;\n",
       "    }\n",
       "</style>\n",
       "<table border=\"1\" class=\"dataframe\">\n",
       "  <thead>\n",
       "    <tr style=\"text-align: right;\">\n",
       "      <th></th>\n",
       "      <th>Open_x</th>\n",
       "      <th>High_x</th>\n",
       "      <th>Low_x</th>\n",
       "      <th>Close_x</th>\n",
       "      <th>Change %_x</th>\n",
       "      <th>Avg.Volume_x</th>\n",
       "    </tr>\n",
       "  </thead>\n",
       "  <tbody>\n",
       "    <tr>\n",
       "      <th>Open_y</th>\n",
       "      <td>0.0</td>\n",
       "      <td>0.0</td>\n",
       "      <td>0.0</td>\n",
       "      <td>0.0</td>\n",
       "      <td>0.0</td>\n",
       "      <td>0.0</td>\n",
       "    </tr>\n",
       "    <tr>\n",
       "      <th>High_y</th>\n",
       "      <td>0.0</td>\n",
       "      <td>0.0</td>\n",
       "      <td>0.0</td>\n",
       "      <td>0.0</td>\n",
       "      <td>0.0</td>\n",
       "      <td>0.0</td>\n",
       "    </tr>\n",
       "    <tr>\n",
       "      <th>Low_y</th>\n",
       "      <td>0.0</td>\n",
       "      <td>0.0</td>\n",
       "      <td>0.0</td>\n",
       "      <td>0.0</td>\n",
       "      <td>0.0</td>\n",
       "      <td>0.0</td>\n",
       "    </tr>\n",
       "    <tr>\n",
       "      <th>Close_y</th>\n",
       "      <td>0.0</td>\n",
       "      <td>0.0</td>\n",
       "      <td>0.0</td>\n",
       "      <td>0.0</td>\n",
       "      <td>0.0</td>\n",
       "      <td>0.0</td>\n",
       "    </tr>\n",
       "    <tr>\n",
       "      <th>Change %_y</th>\n",
       "      <td>0.0</td>\n",
       "      <td>0.0</td>\n",
       "      <td>0.0</td>\n",
       "      <td>0.0</td>\n",
       "      <td>0.0</td>\n",
       "      <td>0.0</td>\n",
       "    </tr>\n",
       "    <tr>\n",
       "      <th>Avg.Volume_y</th>\n",
       "      <td>0.0</td>\n",
       "      <td>0.0</td>\n",
       "      <td>0.0</td>\n",
       "      <td>0.0</td>\n",
       "      <td>0.0</td>\n",
       "      <td>0.0</td>\n",
       "    </tr>\n",
       "  </tbody>\n",
       "</table>\n",
       "</div>"
      ],
      "text/plain": [
       "              Open_x  High_x  Low_x  Close_x  Change %_x  Avg.Volume_x\n",
       "Open_y           0.0     0.0    0.0      0.0         0.0           0.0\n",
       "High_y           0.0     0.0    0.0      0.0         0.0           0.0\n",
       "Low_y            0.0     0.0    0.0      0.0         0.0           0.0\n",
       "Close_y          0.0     0.0    0.0      0.0         0.0           0.0\n",
       "Change %_y       0.0     0.0    0.0      0.0         0.0           0.0\n",
       "Avg.Volume_y     0.0     0.0    0.0      0.0         0.0           0.0"
      ]
     },
     "execution_count": 148,
     "metadata": {},
     "output_type": "execute_result"
    }
   ],
   "source": [
    "from statsmodels.tsa.stattools import grangercausalitytests\n",
    "maxlag = 5\n",
    "test = 'ssr_chi2test'\n",
    "def grangers_causation_matrix(data, variables, test = 'ssr_chi2test', verbose = False):\n",
    "    variables = ['Open', 'High', 'Low', 'Close', 'Change %', 'Avg.Volume']\n",
    "    stock_data1 = pd.DataFrame(np.zeros((len(variables), len(variables))), columns=variables, index=variables)\n",
    "    for c in stock_data1.columns:\n",
    "        for r in stock_data.index:\n",
    "            test_result = grangercausalitytests(data[[r, c]], maxlag = maxlag, verbose=False)\n",
    "            p_values = [round(test_result[i+1][0][test][1], 4) for i in range(maxlag)]\n",
    "            if verbose: print(f'Y = {r}, X = {c}, P Values = {p_values}')\n",
    "            min_p_values = np.min(p_values)\n",
    "            stock_data1.loc[r, c] = min_p_values\n",
    "    stock_data1.columns = [var + '_x' for var in variables]\n",
    "    stock_data1.index = [var + '_y' for var in variables]\n",
    "    return stock_data1\n",
    "grangers_causation_matrix(stock_data1, variables = stock_data1.columns)"
   ]
  },
  {
   "cell_type": "markdown",
   "id": "c8a64717",
   "metadata": {},
   "source": [
    "Splitting the Dataset Into Train Set and Test Set"
   ]
  },
  {
   "cell_type": "code",
   "execution_count": 149,
   "id": "20900c26",
   "metadata": {},
   "outputs": [
    {
     "name": "stdout",
     "output_type": "stream",
     "text": [
      "(96, 6)\n",
      "(10, 6)\n"
     ]
    }
   ],
   "source": [
    "nobs = 10\n",
    "stock_data1_train, stock_data1_test = stock_data1[0:-nobs], stock_data1[-nobs:]\n",
    "print(stock_data1_train.shape)\n",
    "print(stock_data1_test.shape)"
   ]
  },
  {
   "cell_type": "markdown",
   "id": "e14f3666",
   "metadata": {},
   "source": [
    "Checking The Stationarity of the Dataset using the Augmented Dicky-Fuller Test\n",
    "ADF test is fundamentally a statistical significance test. That means, there is a hypothesis testing involved with a null and alternate hypothesis and as a result a test statistic is computed and p-values get reported.\n"
   ]
  },
  {
   "cell_type": "code",
   "execution_count": 150,
   "id": "0bae234f",
   "metadata": {},
   "outputs": [],
   "source": [
    "def adfuller_test(series, signif=0.05, name='', verbose=False):\n",
    "    \"\"\"Perform ADFuller to test for Stationarity of given series and print report\"\"\"\n",
    "    r = adfuller(series, autolag='AIC')\n",
    "    output = {'test_statistic':round(r[0], 4), 'pvalue':round(r[1], 4), 'n_lags':round(r[2], 4), 'n_obs':r[3]}\n",
    "    p_value = output['pvalue'] \n",
    "    def adjust(val, length= 6): return str(val).ljust(length)\n",
    "    \n",
    "    print(f'    Augmented Dickey-Fuller Test on \"{name}\"', \"\\n   \", '-'*47)\n",
    "    print(f' Null Hypothesis: Data has unit root. Non-Stationary.')\n",
    "    print(f' Significance Level    = {signif}')\n",
    "    print(f' Test Statistic        = {output[\"test_statistic\"]}')\n",
    "    print(f' No. Lags Chosen       = {output[\"n_lags\"]}')\n",
    "    \n",
    "    for key,val in r[4].items():\n",
    "        print(f' Critical value {adjust(key)} = {round(val, 3)}')\n",
    "\n",
    "    if p_value <= signif:\n",
    "        print(f\" => P-Value = {p_value}. Rejecting Null Hypothesis.\")\n",
    "        print(f\" => Series is Stationary.\")\n",
    "    else:\n",
    "        print(f\" => P-Value = {p_value}. Weak evidence to reject the Null Hypothesis.\")\n",
    "        print(f\" => Series is Non-Stationary.\")    "
   ]
  },
  {
   "cell_type": "code",
   "execution_count": 151,
   "id": "0aa8fa9c",
   "metadata": {},
   "outputs": [
    {
     "name": "stdout",
     "output_type": "stream",
     "text": [
      "    Augmented Dickey-Fuller Test on \"Open\" \n",
      "    -----------------------------------------------\n",
      " Null Hypothesis: Data has unit root. Non-Stationary.\n",
      " Significance Level    = 0.05\n",
      " Test Statistic        = -0.4316\n",
      " No. Lags Chosen       = 1\n",
      " Critical value 1%     = -3.502\n",
      " Critical value 5%     = -2.893\n",
      " Critical value 10%    = -2.583\n",
      " => P-Value = 0.9047. Weak evidence to reject the Null Hypothesis.\n",
      " => Series is Non-Stationary.\n",
      "\n",
      "\n",
      "    Augmented Dickey-Fuller Test on \"High\" \n",
      "    -----------------------------------------------\n",
      " Null Hypothesis: Data has unit root. Non-Stationary.\n",
      " Significance Level    = 0.05\n",
      " Test Statistic        = -0.2762\n",
      " No. Lags Chosen       = 0\n",
      " Critical value 1%     = -3.501\n",
      " Critical value 5%     = -2.892\n",
      " Critical value 10%    = -2.583\n",
      " => P-Value = 0.9288. Weak evidence to reject the Null Hypothesis.\n",
      " => Series is Non-Stationary.\n",
      "\n",
      "\n",
      "    Augmented Dickey-Fuller Test on \"Low\" \n",
      "    -----------------------------------------------\n",
      " Null Hypothesis: Data has unit root. Non-Stationary.\n",
      " Significance Level    = 0.05\n",
      " Test Statistic        = -1.2257\n",
      " No. Lags Chosen       = 5\n",
      " Critical value 1%     = -3.505\n",
      " Critical value 5%     = -2.894\n",
      " Critical value 10%    = -2.584\n",
      " => P-Value = 0.6624. Weak evidence to reject the Null Hypothesis.\n",
      " => Series is Non-Stationary.\n",
      "\n",
      "\n",
      "    Augmented Dickey-Fuller Test on \"Close\" \n",
      "    -----------------------------------------------\n",
      " Null Hypothesis: Data has unit root. Non-Stationary.\n",
      " Significance Level    = 0.05\n",
      " Test Statistic        = -1.2426\n",
      " No. Lags Chosen       = 4\n",
      " Critical value 1%     = -3.504\n",
      " Critical value 5%     = -2.894\n",
      " Critical value 10%    = -2.584\n",
      " => P-Value = 0.655. Weak evidence to reject the Null Hypothesis.\n",
      " => Series is Non-Stationary.\n",
      "\n",
      "\n",
      "    Augmented Dickey-Fuller Test on \"Change %\" \n",
      "    -----------------------------------------------\n",
      " Null Hypothesis: Data has unit root. Non-Stationary.\n",
      " Significance Level    = 0.05\n",
      " Test Statistic        = -11.2655\n",
      " No. Lags Chosen       = 0\n",
      " Critical value 1%     = -3.501\n",
      " Critical value 5%     = -2.892\n",
      " Critical value 10%    = -2.583\n",
      " => P-Value = 0.0. Rejecting Null Hypothesis.\n",
      " => Series is Stationary.\n",
      "\n",
      "\n",
      "    Augmented Dickey-Fuller Test on \"Avg. Volume\" \n",
      "    -----------------------------------------------\n",
      " Null Hypothesis: Data has unit root. Non-Stationary.\n",
      " Significance Level    = 0.05\n",
      " Test Statistic        = -4.9849\n",
      " No. Lags Chosen       = 0\n",
      " Critical value 1%     = -3.501\n",
      " Critical value 5%     = -2.892\n",
      " Critical value 10%    = -2.583\n",
      " => P-Value = 0.0. Rejecting Null Hypothesis.\n",
      " => Series is Stationary.\n",
      "\n",
      "\n"
     ]
    }
   ],
   "source": [
    "for name, column in stock_data1_train.iteritems():\n",
    "    adfuller_test(column, name=column.name)\n",
    "    print('\\n')"
   ]
  },
  {
   "cell_type": "markdown",
   "id": "9b670433",
   "metadata": {},
   "source": [
    "As All the series are not Stationary we have to do differentiation process that would reduce the values 1, thus it needs to be done uniformly with all the variables."
   ]
  },
  {
   "cell_type": "code",
   "execution_count": 153,
   "id": "bb79bc39",
   "metadata": {},
   "outputs": [],
   "source": [
    "stock_data1_differenced = stock_data1_train.diff().dropna()"
   ]
  },
  {
   "cell_type": "code",
   "execution_count": 154,
   "id": "fea36267",
   "metadata": {},
   "outputs": [
    {
     "name": "stdout",
     "output_type": "stream",
     "text": [
      "    Augmented Dickey-Fuller Test on \"Open\" \n",
      "    -----------------------------------------------\n",
      " Null Hypothesis: Data has unit root. Non-Stationary.\n",
      " Significance Level    = 0.05\n",
      " Test Statistic        = -11.2805\n",
      " No. Lags Chosen       = 0\n",
      " Critical value 1%     = -3.502\n",
      " Critical value 5%     = -2.893\n",
      " Critical value 10%    = -2.583\n",
      " => P-Value = 0.0. Rejecting Null Hypothesis.\n",
      " => Series is Stationary.\n",
      "\n",
      "\n",
      "    Augmented Dickey-Fuller Test on \"High\" \n",
      "    -----------------------------------------------\n",
      " Null Hypothesis: Data has unit root. Non-Stationary.\n",
      " Significance Level    = 0.05\n",
      " Test Statistic        = -4.5814\n",
      " No. Lags Chosen       = 12\n",
      " Critical value 1%     = -3.513\n",
      " Critical value 5%     = -2.897\n",
      " Critical value 10%    = -2.586\n",
      " => P-Value = 0.0001. Rejecting Null Hypothesis.\n",
      " => Series is Stationary.\n",
      "\n",
      "\n",
      "    Augmented Dickey-Fuller Test on \"Low\" \n",
      "    -----------------------------------------------\n",
      " Null Hypothesis: Data has unit root. Non-Stationary.\n",
      " Significance Level    = 0.05\n",
      " Test Statistic        = -4.5697\n",
      " No. Lags Chosen       = 12\n",
      " Critical value 1%     = -3.513\n",
      " Critical value 5%     = -2.897\n",
      " Critical value 10%    = -2.586\n",
      " => P-Value = 0.0001. Rejecting Null Hypothesis.\n",
      " => Series is Stationary.\n",
      "\n",
      "\n",
      "    Augmented Dickey-Fuller Test on \"Close\" \n",
      "    -----------------------------------------------\n",
      " Null Hypothesis: Data has unit root. Non-Stationary.\n",
      " Significance Level    = 0.05\n",
      " Test Statistic        = -3.2713\n",
      " No. Lags Chosen       = 3\n",
      " Critical value 1%     = -3.504\n",
      " Critical value 5%     = -2.894\n",
      " Critical value 10%    = -2.584\n",
      " => P-Value = 0.0162. Rejecting Null Hypothesis.\n",
      " => Series is Stationary.\n",
      "\n",
      "\n",
      "    Augmented Dickey-Fuller Test on \"Change %\" \n",
      "    -----------------------------------------------\n",
      " Null Hypothesis: Data has unit root. Non-Stationary.\n",
      " Significance Level    = 0.05\n",
      " Test Statistic        = -6.3776\n",
      " No. Lags Chosen       = 7\n",
      " Critical value 1%     = -3.508\n",
      " Critical value 5%     = -2.895\n",
      " Critical value 10%    = -2.585\n",
      " => P-Value = 0.0. Rejecting Null Hypothesis.\n",
      " => Series is Stationary.\n",
      "\n",
      "\n",
      "    Augmented Dickey-Fuller Test on \"Avg. Volume\" \n",
      "    -----------------------------------------------\n",
      " Null Hypothesis: Data has unit root. Non-Stationary.\n",
      " Significance Level    = 0.05\n",
      " Test Statistic        = -6.33\n",
      " No. Lags Chosen       = 5\n",
      " Critical value 1%     = -3.506\n",
      " Critical value 5%     = -2.895\n",
      " Critical value 10%    = -2.584\n",
      " => P-Value = 0.0. Rejecting Null Hypothesis.\n",
      " => Series is Stationary.\n",
      "\n",
      "\n"
     ]
    }
   ],
   "source": [
    "for name, column in stock_data1_differenced.iteritems():\n",
    "    adfuller_test(column, name=column.name)\n",
    "    print('\\n')"
   ]
  },
  {
   "cell_type": "markdown",
   "id": "07ab6c06",
   "metadata": {},
   "source": [
    "How to Select the Order (P) of VAR model\n",
    "\n",
    "To select the right order of the VAR model, we iteratively fit increasing orders of VAR model and pick the order that gives a model with least AIC.\n",
    "\n",
    "The Akaike information criterion (AIC) is a mathematical method for evaluating how well a model fits the data it was generated from. "
   ]
  },
  {
   "cell_type": "code",
   "execution_count": 155,
   "id": "b94dabec",
   "metadata": {},
   "outputs": [
    {
     "name": "stdout",
     "output_type": "stream",
     "text": [
      "Lag Order = 1\n",
      "AIC :  32.10403839099919\n",
      "BIC :  33.240404144779404\n",
      "FPE :  87766040460750.75\n",
      "HQIC:  32.56304698282998 \n",
      "\n",
      "Lag Order = 2\n",
      "AIC :  31.24297038968046\n",
      "BIC :  33.36708609361545\n",
      "FPE :  37449923811014.29\n",
      "HQIC:  32.100627549420096 \n",
      "\n",
      "Lag Order = 3\n",
      "AIC :  30.98700423827533\n",
      "BIC :  34.11182921418392\n",
      "FPE :  29729707956366.934\n",
      "HQIC:  32.24821007533173 \n",
      "\n",
      "Lag Order = 4\n",
      "AIC :  30.844751102834252\n",
      "BIC :  34.98353050918071\n",
      "FPE :  27129979869851.383\n",
      "HQIC:  32.51449081700536 \n",
      "\n",
      "Lag Order = 5\n",
      "AIC :  30.664762502918165\n",
      "BIC :  35.831035821600715\n",
      "FPE :  24777269087256.11\n",
      "HQIC:  32.74810758456998 \n",
      "\n",
      "Lag Order = 6\n",
      "AIC :  30.602810843581192\n",
      "BIC :  36.8104206647108\n",
      "FPE :  26930374494028.19\n",
      "HQIC:  33.104920221005315 \n",
      "\n",
      "Lag Order = 7\n",
      "AIC :  29.760255596030998\n",
      "BIC :  37.02335671120574\n",
      "FPE :  14538599065005.195\n",
      "HQIC:  32.686376719249424 \n",
      "\n"
     ]
    },
    {
     "name": "stderr",
     "output_type": "stream",
     "text": [
      "C:\\Users\\ARKYA BANERJEE\\anaconda3\\lib\\site-packages\\statsmodels\\tsa\\base\\tsa_model.py:471: ValueWarning:\n",
      "\n",
      "A date index has been provided, but it has no associated frequency information and so will be ignored when e.g. forecasting.\n",
      "\n",
      "C:\\Users\\ARKYA BANERJEE\\anaconda3\\lib\\site-packages\\statsmodels\\tsa\\base\\tsa_model.py:471: ValueWarning:\n",
      "\n",
      "A date index has been provided, but it is not monotonic and so will be ignored when e.g. forecasting.\n",
      "\n"
     ]
    }
   ],
   "source": [
    "model = VAR(stock_data1_differenced)\n",
    "for i in [1,2,3,4,5,6,7]:\n",
    "    result = model.fit(i)\n",
    "    print('Lag Order =', i)\n",
    "    print('AIC : ', result.aic)\n",
    "    print('BIC : ', result.bic)\n",
    "    print('FPE : ', result.fpe)\n",
    "    print('HQIC: ', result.hqic, '\\n')"
   ]
  },
  {
   "cell_type": "code",
   "execution_count": 156,
   "id": "93372377",
   "metadata": {},
   "outputs": [
    {
     "data": {
      "text/plain": [
       "  Summary of Regression Results   \n",
       "==================================\n",
       "Model:                         VAR\n",
       "Method:                        OLS\n",
       "Date:           Thu, 29, Dec, 2022\n",
       "Time:                     19:42:10\n",
       "--------------------------------------------------------------------\n",
       "No. of Equations:         6.00000    BIC:                    37.0234\n",
       "Nobs:                     88.0000    HQIC:                   32.6864\n",
       "Log likelihood:          -1800.65    FPE:                1.45386e+13\n",
       "AIC:                      29.7603    Det(Omega_mle):     1.33595e+12\n",
       "--------------------------------------------------------------------\n",
       "Results for equation Open\n",
       "=================================================================================\n",
       "                    coefficient       std. error           t-stat            prob\n",
       "---------------------------------------------------------------------------------\n",
       "const                 -0.478997         0.465667           -1.029           0.304\n",
       "L1.Open               -0.065403         0.382015           -0.171           0.864\n",
       "L1.High                0.423421         0.312783            1.354           0.176\n",
       "L1.Low                -0.755256         0.304190           -2.483           0.013\n",
       "L1.Close              -0.502906         0.867110           -0.580           0.562\n",
       "L1.Change %           -4.291164        16.928664           -0.253           0.800\n",
       "L1.Avg. Volume         0.000000         0.000000            1.562           0.118\n",
       "L2.Open                0.889149         0.992597            0.896           0.370\n",
       "L2.High                0.094783         0.446137            0.212           0.832\n",
       "L2.Low                -0.744455         0.346132           -2.151           0.031\n",
       "L2.Close              -0.274389         1.077137           -0.255           0.799\n",
       "L2.Change %          -12.151086        25.792112           -0.471           0.638\n",
       "L2.Avg. Volume        -0.000000         0.000000           -0.872           0.383\n",
       "L3.Open                1.294274         1.155791            1.120           0.263\n",
       "L3.High                0.435619         0.454217            0.959           0.338\n",
       "L3.Low                -0.666281         0.405788           -1.642           0.101\n",
       "L3.Close              -1.363620         1.224598           -1.114           0.265\n",
       "L3.Change %           20.594591        28.477517            0.723           0.470\n",
       "L3.Avg. Volume         0.000000         0.000000            0.354           0.723\n",
       "L4.Open                1.878902         1.211048            1.551           0.121\n",
       "L4.High                0.190102         0.408576            0.465           0.642\n",
       "L4.Low                -0.037017         0.402122           -0.092           0.927\n",
       "L4.Close              -1.355480         1.166704           -1.162           0.245\n",
       "L4.Change %           26.603065        30.921780            0.860           0.390\n",
       "L4.Avg. Volume        -0.000000         0.000000           -0.488           0.626\n",
       "L5.Open                1.870593         1.196989            1.563           0.118\n",
       "L5.High                0.319623         0.385320            0.830           0.407\n",
       "L5.Low                -0.835344         0.390648           -2.138           0.032\n",
       "L5.Close              -1.182124         1.046564           -1.130           0.259\n",
       "L5.Change %           51.292962        33.235341            1.543           0.123\n",
       "L5.Avg. Volume        -0.000000         0.000000           -0.866           0.386\n",
       "L6.Open                0.914914         1.063844            0.860           0.390\n",
       "L6.High                0.022866         0.343643            0.067           0.947\n",
       "L6.Low                 0.570176         0.362937            1.571           0.116\n",
       "L6.Close              -2.303634         0.795776           -2.895           0.004\n",
       "L6.Change %           18.974188        33.064757            0.574           0.566\n",
       "L6.Avg. Volume         0.000000         0.000000            0.230           0.818\n",
       "L7.Open                1.850888         0.868215            2.132           0.033\n",
       "L7.High                0.433891         0.279169            1.554           0.120\n",
       "L7.Low                -0.441772         0.283589           -1.558           0.119\n",
       "L7.Close              -0.419896         0.314884           -1.333           0.182\n",
       "L7.Change %           10.976181        21.689649            0.506           0.613\n",
       "L7.Avg. Volume        -0.000000         0.000000           -2.134           0.033\n",
       "=================================================================================\n",
       "\n",
       "Results for equation High\n",
       "=================================================================================\n",
       "                    coefficient       std. error           t-stat            prob\n",
       "---------------------------------------------------------------------------------\n",
       "const                 -0.640882         0.316072           -2.028           0.043\n",
       "L1.Open                1.082137         0.259294            4.173           0.000\n",
       "L1.High               -0.668412         0.212302           -3.148           0.002\n",
       "L1.Low                -0.451001         0.206470           -2.184           0.029\n",
       "L1.Close               0.116776         0.588552            0.198           0.843\n",
       "L1.Change %            5.851154        11.490361            0.509           0.611\n",
       "L1.Avg. Volume         0.000000         0.000000            1.904           0.057\n",
       "L2.Open                0.675351         0.673727            1.002           0.316\n",
       "L2.High               -0.413025         0.302816           -1.364           0.173\n",
       "L2.Low                -0.041355         0.234938           -0.176           0.860\n",
       "L2.Close               0.849376         0.731109            1.162           0.245\n",
       "L2.Change %            1.874910        17.506442            0.107           0.915\n",
       "L2.Avg. Volume        -0.000000         0.000000           -0.772           0.440\n",
       "L3.Open               -0.111000         0.784495           -0.141           0.887\n",
       "L3.High               -0.076748         0.308300           -0.249           0.803\n",
       "L3.Low                -0.390239         0.275429           -1.417           0.157\n",
       "L3.Close              -0.250176         0.831198           -0.301           0.763\n",
       "L3.Change %           20.719234        19.329165            1.072           0.284\n",
       "L3.Avg. Volume         0.000000         0.000000            0.773           0.439\n",
       "L4.Open                0.722001         0.822001            0.878           0.380\n",
       "L4.High               -0.442046         0.277321           -1.594           0.111\n",
       "L4.Low                 0.129330         0.272941            0.474           0.636\n",
       "L4.Close               0.253338         0.791903            0.320           0.749\n",
       "L4.Change %           13.209344        20.988213            0.629           0.529\n",
       "L4.Avg. Volume        -0.000000         0.000000           -0.052           0.959\n",
       "L5.Open                0.352043         0.812459            0.433           0.665\n",
       "L5.High               -0.117846         0.261537           -0.451           0.652\n",
       "L5.Low                -0.383450         0.265153           -1.446           0.148\n",
       "L5.Close               0.188548         0.710357            0.265           0.791\n",
       "L5.Change %           28.827188        22.558547            1.278           0.201\n",
       "L5.Avg. Volume        -0.000000         0.000000           -0.291           0.771\n",
       "L6.Open               -0.469724         0.722086           -0.651           0.515\n",
       "L6.High                0.007178         0.233248            0.031           0.975\n",
       "L6.Low                 0.423709         0.246344            1.720           0.085\n",
       "L6.Close              -1.034995         0.540134           -1.916           0.055\n",
       "L6.Change %           -0.149960        22.442763           -0.007           0.995\n",
       "L6.Avg. Volume        -0.000000         0.000000           -0.028           0.978\n",
       "L7.Open                0.912292         0.589302            1.548           0.122\n",
       "L7.High                0.430853         0.189486            2.274           0.023\n",
       "L7.Low                -0.556370         0.192487           -2.890           0.004\n",
       "L7.Close              -0.178990         0.213728           -0.837           0.402\n",
       "L7.Change %            8.629731        14.721888            0.586           0.558\n",
       "L7.Avg. Volume        -0.000000         0.000000           -1.815           0.069\n",
       "=================================================================================\n",
       "\n",
       "Results for equation Low\n",
       "=================================================================================\n",
       "                    coefficient       std. error           t-stat            prob\n",
       "---------------------------------------------------------------------------------\n",
       "const                 -0.071859         0.278087           -0.258           0.796\n",
       "L1.Open                0.675516         0.228132            2.961           0.003\n",
       "L1.High                0.174403         0.186787            0.934           0.350\n",
       "L1.Low                -0.695067         0.181656           -3.826           0.000\n",
       "L1.Close              -0.544733         0.517821           -1.052           0.293\n",
       "L1.Change %           -2.848772        10.109456           -0.282           0.778\n",
       "L1.Avg. Volume         0.000000         0.000000            0.197           0.844\n",
       "L2.Open                1.013976         0.592759            1.711           0.087\n",
       "L2.High                0.267240         0.266424            1.003           0.316\n",
       "L2.Low                -0.982920         0.206703           -4.755           0.000\n",
       "L2.Close              -1.381916         0.643245           -2.148           0.032\n",
       "L2.Change %          -12.371974        15.402529           -0.803           0.422\n",
       "L2.Avg. Volume        -0.000000         0.000000           -1.895           0.058\n",
       "L3.Open                2.082229         0.690215            3.017           0.003\n",
       "L3.High                0.009802         0.271249            0.036           0.971\n",
       "L3.Low                -0.571851         0.242328           -2.360           0.018\n",
       "L3.Close              -0.858403         0.731305           -1.174           0.240\n",
       "L3.Change %           -2.636101        17.006198           -0.155           0.877\n",
       "L3.Avg. Volume         0.000000         0.000000            0.509           0.611\n",
       "L4.Open                1.865921         0.723213            2.580           0.010\n",
       "L4.High               -0.099754         0.243993           -0.409           0.683\n",
       "L4.Low                -0.573779         0.240139           -2.389           0.017\n",
       "L4.Close              -0.454923         0.696732           -0.653           0.514\n",
       "L4.Change %           12.540204        18.465863            0.679           0.497\n",
       "L4.Avg. Volume        -0.000000         0.000000           -0.933           0.351\n",
       "L5.Open                1.409153         0.714818            1.971           0.049\n",
       "L5.High               -0.135154         0.230105           -0.587           0.557\n",
       "L5.Low                -0.423172         0.233287           -1.814           0.070\n",
       "L5.Close              -0.991050         0.624987           -1.586           0.113\n",
       "L5.Change %           31.684083        19.847475            1.596           0.110\n",
       "L5.Avg. Volume        -0.000000         0.000000           -0.051           0.959\n",
       "L6.Open                1.537770         0.635306            2.421           0.015\n",
       "L6.High               -0.504198         0.205217           -2.457           0.014\n",
       "L6.Low                -0.068335         0.216739           -0.315           0.753\n",
       "L6.Close              -0.780772         0.475221           -1.643           0.100\n",
       "L6.Change %           20.079955        19.745605            1.017           0.309\n",
       "L6.Avg. Volume         0.000000         0.000000            0.353           0.724\n",
       "L7.Open                1.275299         0.518480            2.460           0.014\n",
       "L7.High               -0.199871         0.166714           -1.199           0.231\n",
       "L7.Low                -0.481437         0.169354           -2.843           0.004\n",
       "L7.Close               0.051445         0.188043            0.274           0.784\n",
       "L7.Change %           16.216325        12.952620            1.252           0.211\n",
       "L7.Avg. Volume        -0.000000         0.000000           -1.914           0.056\n",
       "=================================================================================\n",
       "\n",
       "Results for equation Close\n",
       "=================================================================================\n",
       "                    coefficient       std. error           t-stat            prob\n",
       "---------------------------------------------------------------------------------\n",
       "const                 -0.064494         0.078883           -0.818           0.414\n",
       "L1.Open                1.045220         0.064712           16.152           0.000\n",
       "L1.High               -0.102988         0.052984           -1.944           0.052\n",
       "L1.Low                -0.107569         0.051529           -2.088           0.037\n",
       "L1.Close              -0.680582         0.146886           -4.633           0.000\n",
       "L1.Change %           -2.354755         2.867662           -0.821           0.412\n",
       "L1.Avg. Volume        -0.000000         0.000000           -0.059           0.953\n",
       "L2.Open                0.791267         0.168143            4.706           0.000\n",
       "L2.High               -0.056081         0.075574           -0.742           0.458\n",
       "L2.Low                 0.043736         0.058634            0.746           0.456\n",
       "L2.Close              -0.472024         0.182464           -2.587           0.010\n",
       "L2.Change %           -2.541503         4.369102           -0.582           0.561\n",
       "L2.Avg. Volume         0.000000         0.000000            0.266           0.790\n",
       "L3.Open                0.465664         0.195787            2.378           0.017\n",
       "L3.High               -0.012597         0.076943           -0.164           0.870\n",
       "L3.Low                 0.113768         0.068739            1.655           0.098\n",
       "L3.Close              -0.381115         0.207443           -1.837           0.066\n",
       "L3.Change %           -2.369171         4.824001           -0.491           0.623\n",
       "L3.Avg. Volume         0.000000         0.000000            0.348           0.728\n",
       "L4.Open                0.332972         0.205148            1.623           0.105\n",
       "L4.High               -0.042499         0.069211           -0.614           0.539\n",
       "L4.Low                 0.082351         0.068118            1.209           0.227\n",
       "L4.Close               0.031618         0.197636            0.160           0.873\n",
       "L4.Change %           -2.070947         5.238052           -0.395           0.693\n",
       "L4.Avg. Volume         0.000000         0.000000            0.433           0.665\n",
       "L5.Open                0.015948         0.202766            0.079           0.937\n",
       "L5.High               -0.121467         0.065272           -1.861           0.063\n",
       "L5.Low                 0.049975         0.066175            0.755           0.450\n",
       "L5.Close               0.092472         0.177285            0.522           0.602\n",
       "L5.Change %           -0.344427         5.629962           -0.061           0.951\n",
       "L5.Avg. Volume         0.000000         0.000000            0.279           0.780\n",
       "L6.Open               -0.068191         0.180212           -0.378           0.705\n",
       "L6.High               -0.012907         0.058212           -0.222           0.825\n",
       "L6.Low                 0.053280         0.061480            0.867           0.386\n",
       "L6.Close              -0.113020         0.134802           -0.838           0.402\n",
       "L6.Change %           -1.328320         5.601065           -0.237           0.813\n",
       "L6.Avg. Volume        -0.000000         0.000000           -0.178           0.859\n",
       "L7.Open                0.108608         0.147073            0.738           0.460\n",
       "L7.High               -0.030186         0.047290           -0.638           0.523\n",
       "L7.Low                 0.006546         0.048039            0.136           0.892\n",
       "L7.Close              -0.056459         0.053340           -1.058           0.290\n",
       "L7.Change %            1.822787         3.674158            0.496           0.620\n",
       "L7.Avg. Volume        -0.000000         0.000000           -0.195           0.845\n",
       "=================================================================================\n",
       "\n",
       "Results for equation Change %\n",
       "=================================================================================\n",
       "                    coefficient       std. error           t-stat            prob\n",
       "---------------------------------------------------------------------------------\n",
       "const                  0.006305         0.008398            0.751           0.453\n",
       "L1.Open               -0.001017         0.006889           -0.148           0.883\n",
       "L1.High               -0.002246         0.005641           -0.398           0.691\n",
       "L1.Low                 0.004442         0.005486            0.810           0.418\n",
       "L1.Close               0.016086         0.015638            1.029           0.304\n",
       "L1.Change %           -1.094309         0.305293           -3.584           0.000\n",
       "L1.Avg. Volume        -0.000000         0.000000           -1.668           0.095\n",
       "L2.Open               -0.019536         0.017901           -1.091           0.275\n",
       "L2.High                0.003142         0.008046            0.391           0.696\n",
       "L2.Low                 0.010020         0.006242            1.605           0.108\n",
       "L2.Close               0.019292         0.019425            0.993           0.321\n",
       "L2.Change %           -0.777112         0.465137           -1.671           0.095\n",
       "L2.Avg. Volume         0.000000         0.000000            0.274           0.784\n",
       "L3.Open               -0.031804         0.020844           -1.526           0.127\n",
       "L3.High               -0.001443         0.008191           -0.176           0.860\n",
       "L3.Low                 0.007889         0.007318            1.078           0.281\n",
       "L3.Close               0.022200         0.022085            1.005           0.315\n",
       "L3.Change %           -0.859482         0.513566           -1.674           0.094\n",
       "L3.Avg. Volume        -0.000000         0.000000           -0.046           0.964\n",
       "L4.Open               -0.028502         0.021840           -1.305           0.192\n",
       "L4.High               -0.000808         0.007368           -0.110           0.913\n",
       "L4.Low                 0.000638         0.007252            0.088           0.930\n",
       "L4.Close               0.020671         0.021040            0.982           0.326\n",
       "L4.Change %           -0.761160         0.557646           -1.365           0.172\n",
       "L4.Avg. Volume         0.000000         0.000000            0.733           0.463\n",
       "L5.Open               -0.025670         0.021587           -1.189           0.234\n",
       "L5.High               -0.000474         0.006949           -0.068           0.946\n",
       "L5.Low                 0.005799         0.007045            0.823           0.410\n",
       "L5.Close               0.019251         0.018874            1.020           0.308\n",
       "L5.Change %           -0.958284         0.599369           -1.599           0.110\n",
       "L5.Avg. Volume        -0.000000         0.000000           -0.194           0.846\n",
       "L6.Open               -0.020631         0.019185           -1.075           0.282\n",
       "L6.High                0.003898         0.006197            0.629           0.529\n",
       "L6.Low                -0.006573         0.006545           -1.004           0.315\n",
       "L6.Close               0.023224         0.014351            1.618           0.106\n",
       "L6.Change %           -0.658599         0.596293           -1.104           0.269\n",
       "L6.Avg. Volume        -0.000000         0.000000           -0.192           0.848\n",
       "L7.Open               -0.018319         0.015657           -1.170           0.242\n",
       "L7.High               -0.003689         0.005035           -0.733           0.464\n",
       "L7.Low                 0.003061         0.005114            0.598           0.550\n",
       "L7.Close               0.007833         0.005679            1.379           0.168\n",
       "L7.Change %           -0.439511         0.391153           -1.124           0.261\n",
       "L7.Avg. Volume         0.000000         0.000000            1.411           0.158\n",
       "=================================================================================\n",
       "\n",
       "Results for equation Avg. Volume\n",
       "==================================================================================\n",
       "                     coefficient       std. error           t-stat            prob\n",
       "----------------------------------------------------------------------------------\n",
       "const             -158071.433250    925732.202409           -0.171           0.864\n",
       "L1.Open            347206.129315    759435.185342            0.457           0.648\n",
       "L1.High            -24295.309487    621802.288663           -0.039           0.969\n",
       "L1.Low           -1120613.350190    604721.482019           -1.853           0.064\n",
       "L1.Close           507818.143050   1723788.329096            0.295           0.768\n",
       "L1.Change %      25837086.750538  33653671.886067            0.768           0.443\n",
       "L1.Avg. Volume         -0.262403         0.182155           -1.441           0.150\n",
       "L2.Open            754336.763801   1973252.337330            0.382           0.702\n",
       "L2.High           -502039.204633    886906.820341           -0.566           0.571\n",
       "L2.Low             242587.247129    688099.515850            0.353           0.724\n",
       "L2.Close           829785.737932   2141315.965811            0.388           0.698\n",
       "L2.Change %      52701572.143950  51273938.251103            1.028           0.304\n",
       "L2.Avg. Volume         -0.311360         0.202078           -1.541           0.123\n",
       "L3.Open           -164217.279490   2297678.269725           -0.071           0.943\n",
       "L3.High             47628.822056    902969.008781            0.053           0.958\n",
       "L3.Low            -338747.069681    806693.463527           -0.420           0.675\n",
       "L3.Close         -2063259.082403   2434463.177040           -0.848           0.397\n",
       "L3.Change %      89981253.934849  56612441.167838            1.589           0.112\n",
       "L3.Avg. Volume         -0.275828         0.204411           -1.349           0.177\n",
       "L4.Open            911007.945874   2407526.665216            0.378           0.705\n",
       "L4.High           -173953.476159    812235.767005           -0.214           0.830\n",
       "L4.Low             158945.905077    799405.711797            0.199           0.842\n",
       "L4.Close          -562141.290131   2319373.233461           -0.242           0.808\n",
       "L4.Change %      -6666060.059313  61471562.081368           -0.108           0.914\n",
       "L4.Avg. Volume         -0.278711         0.213982           -1.302           0.193\n",
       "L5.Open            539545.888411   2379578.278495            0.227           0.821\n",
       "L5.High            169105.454122    766005.017332            0.221           0.825\n",
       "L5.Low            -887474.816112    776596.194673           -1.143           0.253\n",
       "L5.Close          1754078.788005   2080537.014377            0.843           0.399\n",
       "L5.Change %     -22023370.250567  66070851.330774           -0.333           0.739\n",
       "L5.Avg. Volume         -0.428350         0.210244           -2.037           0.042\n",
       "L6.Open          -1559604.448255   2114889.351514           -0.737           0.461\n",
       "L6.High            538146.858313    683152.001476            0.788           0.431\n",
       "L6.Low             134094.814304    721507.576037            0.186           0.853\n",
       "L6.Close          -216643.959201   1581978.291349           -0.137           0.891\n",
       "L6.Change %     -16266113.509426  65731735.378621           -0.247           0.805\n",
       "L6.Avg. Volume         -0.302480         0.258147           -1.172           0.241\n",
       "L7.Open            160898.163079   1725985.149246            0.093           0.926\n",
       "L7.High           -108655.833709    554979.458403           -0.196           0.845\n",
       "L7.Low             619220.617980    563767.115186            1.098           0.272\n",
       "L7.Close          -579126.131204    625980.469520           -0.925           0.355\n",
       "L7.Change %      33720196.814645  43118364.807259            0.782           0.434\n",
       "L7.Avg. Volume          0.181053         0.221845            0.816           0.414\n",
       "==================================================================================\n",
       "\n",
       "Correlation matrix of residuals\n",
       "                   Open      High       Low     Close  Change %  Avg. Volume\n",
       "Open           1.000000  0.688531  0.677112  0.110524 -0.874246     0.029597\n",
       "High           0.688531  1.000000  0.335665  0.362128 -0.509466     0.292899\n",
       "Low            0.677112  0.335665  1.000000 -0.027495 -0.590776    -0.317464\n",
       "Close          0.110524  0.362128 -0.027495  1.000000 -0.035860     0.173353\n",
       "Change %      -0.874246 -0.509466 -0.590776 -0.035860  1.000000    -0.101441\n",
       "Avg. Volume    0.029597  0.292899 -0.317464  0.173353 -0.101441     1.000000\n",
       "\n"
      ]
     },
     "execution_count": 156,
     "metadata": {},
     "output_type": "execute_result"
    }
   ],
   "source": [
    "model_fitted = model.fit(7)\n",
    "model_fitted.summary()"
   ]
  },
  {
   "cell_type": "markdown",
   "id": "50329d65",
   "metadata": {},
   "source": [
    "Check for Serial Correlation of Residuals (Errors) using Durbin Watson Statistic\n",
    "\n",
    "If there is any correlation left in the residuals, then, there is some pattern in the time series that is still left to be explained by the model. In that case, the typical course of action is to either increase the order of the model or induce more predictors into the system or look for a different algorithm to model the time series."
   ]
  },
  {
   "cell_type": "code",
   "execution_count": 166,
   "id": "44262c03",
   "metadata": {},
   "outputs": [
    {
     "name": "stdout",
     "output_type": "stream",
     "text": [
      "Open : (1.9822647841577172, 2)\n",
      "High : (1.817075199489777, 2)\n",
      "Low : (2.306468059680359, 2)\n",
      "Close : (2.097632232501362, 2)\n",
      "Change % : (2.097271434084534, 2)\n",
      "Avg. Volume : (1.7625405838745423, 2)\n"
     ]
    }
   ],
   "source": [
    "from statsmodels.stats.stattools import durbin_watson\n",
    "out = durbin_watson(model_fitted.resid)\n",
    "\n",
    "for col, val in zip(stock_data1.columns, out):\n",
    "    print((col), ':', (val, 2))\n",
    "\n"
   ]
  },
  {
   "cell_type": "markdown",
   "id": "b4c40c63",
   "metadata": {},
   "source": [
    "How to Forecast VAR model using statsmodels\n",
    " \n",
    "In order to forecast, the VAR model expects up to the lag order number of observations from the past data.\n",
    "This is because, the terms in the VAR model are essentially the lags of the various time series in the dataset, so you need to provide it as many of the previous values as indicated by the lag order used by the model."
   ]
  },
  {
   "cell_type": "code",
   "execution_count": 158,
   "id": "8978f398",
   "metadata": {},
   "outputs": [
    {
     "name": "stdout",
     "output_type": "stream",
     "text": [
      "7\n"
     ]
    },
    {
     "data": {
      "text/plain": [
       "array([[-5.0300000e+00,  1.8000000e-01, -2.4900000e+00,  3.7000000e-01,\n",
       "         2.1370000e-01,  6.3998600e+06],\n",
       "       [ 6.0000000e-01, -6.7400000e+00,  2.7000000e-01, -5.2500000e+00,\n",
       "        -2.2370000e-01, -2.6342667e+07],\n",
       "       [ 8.0000000e-02,  2.0000000e-02,  2.0000000e-02,  5.8000000e-01,\n",
       "         1.2100000e-02,  6.4630300e+05],\n",
       "       [ 5.1000000e-01,  1.3500000e+00,  0.0000000e+00,  2.6000000e-01,\n",
       "        -9.7000000e-03,  8.4040710e+06],\n",
       "       [ 6.0000000e-01,  3.3000000e-01,  1.1600000e+00,  5.3000000e-01,\n",
       "         8.0000000e-04, -5.2309950e+06],\n",
       "       [-1.4400000e+00, -6.6000000e-01, -1.2800000e+00,  5.2000000e-01,\n",
       "         6.3300000e-02, -8.1983500e+05],\n",
       "       [-1.4000000e-01, -1.1200000e+00, -1.5500000e+00, -1.1900000e+00,\n",
       "        -2.9300000e-02,  1.5879770e+07]])"
      ]
     },
     "execution_count": 158,
     "metadata": {},
     "output_type": "execute_result"
    }
   ],
   "source": [
    "lag_order = model_fitted.k_ar\n",
    "print(lag_order)  #> 7\n",
    "\n",
    "# Input data for forecasting\n",
    "forecast_input = stock_data1_differenced.values[-lag_order:]\n",
    "forecast_input"
   ]
  },
  {
   "cell_type": "code",
   "execution_count": 159,
   "id": "28fa2a68",
   "metadata": {},
   "outputs": [
    {
     "data": {
      "text/html": [
       "<div>\n",
       "<style scoped>\n",
       "    .dataframe tbody tr th:only-of-type {\n",
       "        vertical-align: middle;\n",
       "    }\n",
       "\n",
       "    .dataframe tbody tr th {\n",
       "        vertical-align: top;\n",
       "    }\n",
       "\n",
       "    .dataframe thead th {\n",
       "        text-align: right;\n",
       "    }\n",
       "</style>\n",
       "<table border=\"1\" class=\"dataframe\">\n",
       "  <thead>\n",
       "    <tr style=\"text-align: right;\">\n",
       "      <th></th>\n",
       "      <th>Open_2d</th>\n",
       "      <th>High_2d</th>\n",
       "      <th>Low_2d</th>\n",
       "      <th>Close_2d</th>\n",
       "      <th>Change %_2d</th>\n",
       "      <th>Avg. Volume_2d</th>\n",
       "    </tr>\n",
       "    <tr>\n",
       "      <th>Date</th>\n",
       "      <th></th>\n",
       "      <th></th>\n",
       "      <th></th>\n",
       "      <th></th>\n",
       "      <th></th>\n",
       "      <th></th>\n",
       "    </tr>\n",
       "  </thead>\n",
       "  <tbody>\n",
       "    <tr>\n",
       "      <th>2014-02-12</th>\n",
       "      <td>1.570484</td>\n",
       "      <td>4.467043</td>\n",
       "      <td>0.386172</td>\n",
       "      <td>0.629782</td>\n",
       "      <td>-0.039702</td>\n",
       "      <td>1.123824e+07</td>\n",
       "    </tr>\n",
       "    <tr>\n",
       "      <th>2014-01-11</th>\n",
       "      <td>5.565379</td>\n",
       "      <td>-0.853442</td>\n",
       "      <td>1.553616</td>\n",
       "      <td>0.498244</td>\n",
       "      <td>-0.011359</td>\n",
       "      <td>-1.522049e+07</td>\n",
       "    </tr>\n",
       "    <tr>\n",
       "      <th>2014-01-10</th>\n",
       "      <td>-3.711467</td>\n",
       "      <td>3.238346</td>\n",
       "      <td>3.684392</td>\n",
       "      <td>5.896290</td>\n",
       "      <td>0.106675</td>\n",
       "      <td>-7.773059e+06</td>\n",
       "    </tr>\n",
       "    <tr>\n",
       "      <th>2014-02-09</th>\n",
       "      <td>0.955285</td>\n",
       "      <td>-2.989286</td>\n",
       "      <td>-0.718880</td>\n",
       "      <td>-4.081392</td>\n",
       "      <td>-0.057536</td>\n",
       "      <td>1.752749e+06</td>\n",
       "    </tr>\n",
       "    <tr>\n",
       "      <th>2014-01-08</th>\n",
       "      <td>-2.246999</td>\n",
       "      <td>-0.267475</td>\n",
       "      <td>-0.806082</td>\n",
       "      <td>1.251694</td>\n",
       "      <td>-0.001394</td>\n",
       "      <td>-2.160288e+06</td>\n",
       "    </tr>\n",
       "    <tr>\n",
       "      <th>2014-01-07</th>\n",
       "      <td>0.219488</td>\n",
       "      <td>-1.838737</td>\n",
       "      <td>0.810797</td>\n",
       "      <td>-2.506562</td>\n",
       "      <td>-0.014673</td>\n",
       "      <td>-6.871510e+05</td>\n",
       "    </tr>\n",
       "    <tr>\n",
       "      <th>2014-02-06</th>\n",
       "      <td>-3.310579</td>\n",
       "      <td>-2.211148</td>\n",
       "      <td>-2.708579</td>\n",
       "      <td>0.550893</td>\n",
       "      <td>0.074123</td>\n",
       "      <td>2.906047e+06</td>\n",
       "    </tr>\n",
       "    <tr>\n",
       "      <th>2014-01-05</th>\n",
       "      <td>-2.459626</td>\n",
       "      <td>-1.732852</td>\n",
       "      <td>-3.405917</td>\n",
       "      <td>-3.437048</td>\n",
       "      <td>-0.048561</td>\n",
       "      <td>6.528158e+06</td>\n",
       "    </tr>\n",
       "    <tr>\n",
       "      <th>2014-01-04</th>\n",
       "      <td>0.783400</td>\n",
       "      <td>-1.016060</td>\n",
       "      <td>-0.594822</td>\n",
       "      <td>-1.995120</td>\n",
       "      <td>-0.035390</td>\n",
       "      <td>8.617271e+05</td>\n",
       "    </tr>\n",
       "    <tr>\n",
       "      <th>2014-02-03</th>\n",
       "      <td>-0.336574</td>\n",
       "      <td>0.190259</td>\n",
       "      <td>-1.029287</td>\n",
       "      <td>0.056136</td>\n",
       "      <td>0.021712</td>\n",
       "      <td>-1.357672e+06</td>\n",
       "    </tr>\n",
       "  </tbody>\n",
       "</table>\n",
       "</div>"
      ],
      "text/plain": [
       "             Open_2d   High_2d    Low_2d  Close_2d  Change %_2d  \\\n",
       "Date                                                              \n",
       "2014-02-12  1.570484  4.467043  0.386172  0.629782    -0.039702   \n",
       "2014-01-11  5.565379 -0.853442  1.553616  0.498244    -0.011359   \n",
       "2014-01-10 -3.711467  3.238346  3.684392  5.896290     0.106675   \n",
       "2014-02-09  0.955285 -2.989286 -0.718880 -4.081392    -0.057536   \n",
       "2014-01-08 -2.246999 -0.267475 -0.806082  1.251694    -0.001394   \n",
       "2014-01-07  0.219488 -1.838737  0.810797 -2.506562    -0.014673   \n",
       "2014-02-06 -3.310579 -2.211148 -2.708579  0.550893     0.074123   \n",
       "2014-01-05 -2.459626 -1.732852 -3.405917 -3.437048    -0.048561   \n",
       "2014-01-04  0.783400 -1.016060 -0.594822 -1.995120    -0.035390   \n",
       "2014-02-03 -0.336574  0.190259 -1.029287  0.056136     0.021712   \n",
       "\n",
       "            Avg. Volume_2d  \n",
       "Date                        \n",
       "2014-02-12    1.123824e+07  \n",
       "2014-01-11   -1.522049e+07  \n",
       "2014-01-10   -7.773059e+06  \n",
       "2014-02-09    1.752749e+06  \n",
       "2014-01-08   -2.160288e+06  \n",
       "2014-01-07   -6.871510e+05  \n",
       "2014-02-06    2.906047e+06  \n",
       "2014-01-05    6.528158e+06  \n",
       "2014-01-04    8.617271e+05  \n",
       "2014-02-03   -1.357672e+06  "
      ]
     },
     "execution_count": 159,
     "metadata": {},
     "output_type": "execute_result"
    }
   ],
   "source": [
    "fc = model_fitted.forecast(y=forecast_input, steps=nobs)\n",
    "stock_data1_forecast = pd.DataFrame(fc, index=stock_data1.index[-nobs:], columns=stock_data1.columns + '_2d')\n",
    "stock_data1_forecast"
   ]
  },
  {
   "cell_type": "code",
   "execution_count": 160,
   "id": "67d3264f",
   "metadata": {},
   "outputs": [],
   "source": [
    "def invert_transformation(stock_data1_train, stock_data1_forecast, second_diff=False):\n",
    "    \"\"\"Revert back the differencing to get the forecast to original scale.\"\"\"\n",
    "    stock_data1_fc = stock_data1_forecast.copy()\n",
    "    columns = stock_data1_train.columns\n",
    "    for col in columns:        \n",
    "        # Roll back 2nd Diff\n",
    "        if second_diff:\n",
    "            stock_data1_fc[str(col)+'_1d'] = (stock_data1_train[col].iloc[-1]-stock_data1_train[col].iloc[-2]) + stock_data1_fc[str(col)+'_2d'].cumsum()\n",
    "        # Roll back 1st Diff\n",
    "        stock_data1_fc[str(col)+'_forecast'] = stock_data1_train[col].iloc[-1] + stock_data1_fc[str(col)+'_1d'].cumsum()\n",
    "    return stock_data1_fc"
   ]
  },
  {
   "cell_type": "code",
   "execution_count": 161,
   "id": "10e4a371",
   "metadata": {},
   "outputs": [
    {
     "data": {
      "text/html": [
       "<div>\n",
       "<style scoped>\n",
       "    .dataframe tbody tr th:only-of-type {\n",
       "        vertical-align: middle;\n",
       "    }\n",
       "\n",
       "    .dataframe tbody tr th {\n",
       "        vertical-align: top;\n",
       "    }\n",
       "\n",
       "    .dataframe thead th {\n",
       "        text-align: right;\n",
       "    }\n",
       "</style>\n",
       "<table border=\"1\" class=\"dataframe\">\n",
       "  <thead>\n",
       "    <tr style=\"text-align: right;\">\n",
       "      <th></th>\n",
       "      <th>Open_forecast</th>\n",
       "      <th>High_forecast</th>\n",
       "      <th>Low_forecast</th>\n",
       "      <th>Close_forecast</th>\n",
       "      <th>Change %_forecast</th>\n",
       "      <th>Avg. Volume_forecast</th>\n",
       "    </tr>\n",
       "    <tr>\n",
       "      <th>Date</th>\n",
       "      <th></th>\n",
       "      <th></th>\n",
       "      <th></th>\n",
       "      <th></th>\n",
       "      <th></th>\n",
       "      <th></th>\n",
       "    </tr>\n",
       "  </thead>\n",
       "  <tbody>\n",
       "    <tr>\n",
       "      <th>2014-02-12</th>\n",
       "      <td>27.880484</td>\n",
       "      <td>30.457043</td>\n",
       "      <td>23.216172</td>\n",
       "      <td>26.169782</td>\n",
       "      <td>-0.053602</td>\n",
       "      <td>7.721780e+07</td>\n",
       "    </tr>\n",
       "    <tr>\n",
       "      <th>2014-01-11</th>\n",
       "      <td>34.876348</td>\n",
       "      <td>32.950645</td>\n",
       "      <td>23.605959</td>\n",
       "      <td>26.107808</td>\n",
       "      <td>-0.133963</td>\n",
       "      <td>8.911532e+07</td>\n",
       "    </tr>\n",
       "    <tr>\n",
       "      <th>2014-01-10</th>\n",
       "      <td>38.160745</td>\n",
       "      <td>38.682593</td>\n",
       "      <td>27.680139</td>\n",
       "      <td>31.942124</td>\n",
       "      <td>-0.107648</td>\n",
       "      <td>9.323977e+07</td>\n",
       "    </tr>\n",
       "    <tr>\n",
       "      <th>2014-02-09</th>\n",
       "      <td>42.400427</td>\n",
       "      <td>41.425255</td>\n",
       "      <td>31.035439</td>\n",
       "      <td>33.695047</td>\n",
       "      <td>-0.138870</td>\n",
       "      <td>9.911698e+07</td>\n",
       "    </tr>\n",
       "    <tr>\n",
       "      <th>2014-01-08</th>\n",
       "      <td>44.393110</td>\n",
       "      <td>43.900442</td>\n",
       "      <td>33.584657</td>\n",
       "      <td>36.699665</td>\n",
       "      <td>-0.171486</td>\n",
       "      <td>1.028339e+08</td>\n",
       "    </tr>\n",
       "    <tr>\n",
       "      <th>2014-01-07</th>\n",
       "      <td>46.605282</td>\n",
       "      <td>44.536892</td>\n",
       "      <td>36.944672</td>\n",
       "      <td>37.197720</td>\n",
       "      <td>-0.218776</td>\n",
       "      <td>1.058637e+08</td>\n",
       "    </tr>\n",
       "    <tr>\n",
       "      <th>2014-02-06</th>\n",
       "      <td>45.506874</td>\n",
       "      <td>42.962194</td>\n",
       "      <td>37.596107</td>\n",
       "      <td>38.246669</td>\n",
       "      <td>-0.191942</td>\n",
       "      <td>1.117995e+08</td>\n",
       "    </tr>\n",
       "    <tr>\n",
       "      <th>2014-01-05</th>\n",
       "      <td>41.948840</td>\n",
       "      <td>39.654643</td>\n",
       "      <td>34.841626</td>\n",
       "      <td>35.858570</td>\n",
       "      <td>-0.213670</td>\n",
       "      <td>1.242635e+08</td>\n",
       "    </tr>\n",
       "    <tr>\n",
       "      <th>2014-01-04</th>\n",
       "      <td>39.174206</td>\n",
       "      <td>35.331032</td>\n",
       "      <td>31.492323</td>\n",
       "      <td>31.475351</td>\n",
       "      <td>-0.270787</td>\n",
       "      <td>1.375892e+08</td>\n",
       "    </tr>\n",
       "    <tr>\n",
       "      <th>2014-02-03</th>\n",
       "      <td>36.062999</td>\n",
       "      <td>31.197680</td>\n",
       "      <td>27.113732</td>\n",
       "      <td>27.148268</td>\n",
       "      <td>-0.306192</td>\n",
       "      <td>1.495572e+08</td>\n",
       "    </tr>\n",
       "  </tbody>\n",
       "</table>\n",
       "</div>"
      ],
      "text/plain": [
       "            Open_forecast  High_forecast  Low_forecast  Close_forecast  \\\n",
       "Date                                                                     \n",
       "2014-02-12      27.880484      30.457043     23.216172       26.169782   \n",
       "2014-01-11      34.876348      32.950645     23.605959       26.107808   \n",
       "2014-01-10      38.160745      38.682593     27.680139       31.942124   \n",
       "2014-02-09      42.400427      41.425255     31.035439       33.695047   \n",
       "2014-01-08      44.393110      43.900442     33.584657       36.699665   \n",
       "2014-01-07      46.605282      44.536892     36.944672       37.197720   \n",
       "2014-02-06      45.506874      42.962194     37.596107       38.246669   \n",
       "2014-01-05      41.948840      39.654643     34.841626       35.858570   \n",
       "2014-01-04      39.174206      35.331032     31.492323       31.475351   \n",
       "2014-02-03      36.062999      31.197680     27.113732       27.148268   \n",
       "\n",
       "            Change %_forecast  Avg. Volume_forecast  \n",
       "Date                                                 \n",
       "2014-02-12          -0.053602          7.721780e+07  \n",
       "2014-01-11          -0.133963          8.911532e+07  \n",
       "2014-01-10          -0.107648          9.323977e+07  \n",
       "2014-02-09          -0.138870          9.911698e+07  \n",
       "2014-01-08          -0.171486          1.028339e+08  \n",
       "2014-01-07          -0.218776          1.058637e+08  \n",
       "2014-02-06          -0.191942          1.117995e+08  \n",
       "2014-01-05          -0.213670          1.242635e+08  \n",
       "2014-01-04          -0.270787          1.375892e+08  \n",
       "2014-02-03          -0.306192          1.495572e+08  "
      ]
     },
     "execution_count": 161,
     "metadata": {},
     "output_type": "execute_result"
    }
   ],
   "source": [
    "df_results = invert_transformation(stock_data1_train,  stock_data1_forecast, second_diff=True)        \n",
    "df_results.loc[:, ['Open_forecast', 'High_forecast', 'Low_forecast', 'Close_forecast',\n",
    "                   'Change %_forecast', 'Avg. Volume_forecast']]"
   ]
  },
  {
   "cell_type": "code",
   "execution_count": 162,
   "id": "d9bebb9a",
   "metadata": {},
   "outputs": [
    {
     "data": {
      "image/png": "[encoded data removed]",
      "text/plain": [
       "<Figure size 1500x1500 with 6 Axes>"
      ]
     },
     "metadata": {},
     "output_type": "display_data"
    }
   ],
   "source": [
    "fig, axes = plt.subplots(nrows=int(len(stock_data1.columns)/2), ncols=2, dpi=150, figsize=(10,10))\n",
    "for i, (col,ax) in enumerate(zip(stock_data1.columns, axes.flatten())):\n",
    "    df_results[col+'_forecast'].plot(legend=True, ax=ax).autoscale(axis='x',tight=True)\n",
    "    stock_data1_test[col][-nobs:].plot(legend=True, ax=ax);\n",
    "    ax.set_title(col + \": Forecast vs Actuals\")\n",
    "    ax.xaxis.set_ticks_position('none')\n",
    "    ax.yaxis.set_ticks_position('none')\n",
    "    ax.spines[\"top\"].set_alpha(0)\n",
    "    ax.tick_params(labelsize=6)\n",
    "\n",
    "plt.tight_layout();"
   ]
  },
  {
   "cell_type": "markdown",
   "id": "f3d88749",
   "metadata": {},
   "source": [
    "Evaluate the Forecasts\n",
    "To evaluate the forecasts, let’s compute a comprehensive set of metrics, namely, the MAPE, ME, MAE, MPE, RMSE, corr and minmax."
   ]
  },
  {
   "cell_type": "code",
   "execution_count": 163,
   "id": "8f182bc2",
   "metadata": {},
   "outputs": [
    {
     "name": "stdout",
     "output_type": "stream",
     "text": [
      "Forecast Accuracy of: Open\n",
      "mape :  0.4155\n",
      "me :  11.6759\n",
      "mae :  11.6759\n",
      "mpe :  0.4155\n",
      "rmse :  12.7608\n",
      "corr :  0.4186\n",
      "minmax :  0.2801\n",
      "\n",
      "Forecast Accuracy of: High\n",
      "mape :  0.3147\n",
      "me :  9.1768\n",
      "mae :  9.1768\n",
      "mpe :  0.3147\n",
      "rmse :  10.1972\n",
      "corr :  0.6726\n",
      "minmax :  0.2292\n",
      "\n",
      "Forecast Accuracy of: Low\n",
      "mape :  0.1902\n",
      "me :  4.1211\n",
      "mae :  5.0539\n",
      "mpe :  0.1543\n",
      "rmse :  6.1376\n",
      "corr :  0.3918\n",
      "minmax :  0.1511\n",
      "\n",
      "Forecast Accuracy of: Close\n",
      "mape :  0.1769\n",
      "me :  4.6221\n",
      "mae :  4.9889\n",
      "mpe :  0.1635\n",
      "rmse :  5.994\n",
      "corr :  0.7344\n",
      "minmax :  0.1419\n",
      "\n",
      "Forecast Accuracy of: Change %\n",
      "mape :  inf\n",
      "me :  -0.1756\n",
      "mae :  0.1756\n",
      "mpe :  -inf\n",
      "rmse :  0.1947\n",
      "corr :  -0.1812\n",
      "minmax :  inf\n",
      "\n",
      "Forecast Accuracy of: Avg. Column\n",
      "mape :  36.2134\n",
      "me :  74872874.8591\n",
      "mae :  74872874.8591\n",
      "mpe :  36.2134\n",
      "rmse :  80227231.9326\n",
      "corr :  -0.2321\n",
      "minmax :  0.6693\n"
     ]
    },
    {
     "name": "stderr",
     "output_type": "stream",
     "text": [
      "C:\\Users\\ARKYA BANERJEE\\AppData\\Local\\Temp\\ipykernel_13536\\783887558.py:10: FutureWarning:\n",
      "\n",
      "Support for multi-dimensional indexing (e.g. `obj[:, None]`) is deprecated and will be removed in a future version.  Convert to a numpy array before indexing instead.\n",
      "\n",
      "C:\\Users\\ARKYA BANERJEE\\AppData\\Local\\Temp\\ipykernel_13536\\783887558.py:12: FutureWarning:\n",
      "\n",
      "Support for multi-dimensional indexing (e.g. `obj[:, None]`) is deprecated and will be removed in a future version.  Convert to a numpy array before indexing instead.\n",
      "\n",
      "C:\\Users\\ARKYA BANERJEE\\AppData\\Local\\Temp\\ipykernel_13536\\783887558.py:13: RuntimeWarning:\n",
      "\n",
      "divide by zero encountered in divide\n",
      "\n"
     ]
    }
   ],
   "source": [
    "from statsmodels.tsa.stattools import acf\n",
    "def forecast_accuracy(forecast, actual):\n",
    "    mape = np.mean(np.abs(forecast - actual)/np.abs(actual))  # MAPE\n",
    "    me = np.mean(forecast - actual)             # ME\n",
    "    mae = np.mean(np.abs(forecast - actual))    # MAE\n",
    "    mpe = np.mean((forecast - actual)/actual)   # MPE\n",
    "    rmse = np.mean((forecast - actual)**2)**.5  # RMSE\n",
    "    corr = np.corrcoef(forecast, actual)[0,1]   # corr\n",
    "    mins = np.amin(np.hstack([forecast[:,None], \n",
    "                              actual[:,None]]), axis=1)\n",
    "    maxs = np.amax(np.hstack([forecast[:,None], \n",
    "                              actual[:,None]]), axis=1)\n",
    "    minmax = 1 - np.mean(mins/maxs)             # minmax\n",
    "    return({'mape':mape, 'me':me, 'mae': mae, \n",
    "            'mpe': mpe, 'rmse':rmse, 'corr':corr, 'minmax':minmax})\n",
    "\n",
    "print('Forecast Accuracy of: Open')\n",
    "accuracy_prod = forecast_accuracy(df_results['Open_forecast'].values, stock_data1_test['Open'])\n",
    "for k, v in accuracy_prod.items():\n",
    "    print((k), ': ', round(v,4))\n",
    "\n",
    "print('\\nForecast Accuracy of: High')\n",
    "accuracy_prod = forecast_accuracy(df_results['High_forecast'].values, stock_data1_test['High'])\n",
    "for k, v in accuracy_prod.items():\n",
    "    print((k), ': ', round(v,4))\n",
    "\n",
    "print('\\nForecast Accuracy of: Low')\n",
    "accuracy_prod = forecast_accuracy(df_results['Low_forecast'].values, stock_data1_test['Low'])\n",
    "for k, v in accuracy_prod.items():\n",
    "    print((k), ': ', round(v,4))\n",
    "\n",
    "print('\\nForecast Accuracy of: Close')\n",
    "accuracy_prod = forecast_accuracy(df_results['Close_forecast'].values, stock_data1_test['Close'])\n",
    "for k, v in accuracy_prod.items():\n",
    "    print((k), ': ', round(v,4))\n",
    "\n",
    "print('\\nForecast Accuracy of: Change %')\n",
    "accuracy_prod = forecast_accuracy(df_results['Change %_forecast'].values, stock_data1_test['Change %'])\n",
    "for k, v in accuracy_prod.items():\n",
    "    print((k), ': ', round(v,4))\n",
    "\n",
    "print('\\nForecast Accuracy of: Avg. Column')\n",
    "accuracy_prod = forecast_accuracy(df_results['Avg. Volume_forecast'].values, stock_data1_test['Avg. Volume'])\n",
    "for k, v in accuracy_prod.items():\n",
    "    print((k), ': ', round(v,4))"
   ]
  }
 ],
 "metadata": {
  "kernelspec": {
   "display_name": "Python 3 (ipykernel)",
   "language": "python",
   "name": "python3"
  },
  "language_info": {
   "codemirror_mode": {
    "name": "ipython",
    "version": 3
   },
   "file_extension": ".py",
   "mimetype": "text/x-python",
   "name": "python",
   "nbconvert_exporter": "python",
   "pygments_lexer": "ipython3",
   "version": "3.9.7"
  }
 },
 "nbformat": 4,
 "nbformat_minor": 5
}
